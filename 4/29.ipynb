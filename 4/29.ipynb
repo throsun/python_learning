{
 "cells": [
  {
   "cell_type": "code",
   "execution_count": 4,
   "id": "184e4847-ec18-4c7f-b5c8-0db0edb0623c",
   "metadata": {},
   "outputs": [
    {
     "name": "stdout",
     "output_type": "stream",
     "text": [
      "-----\n"
     ]
    }
   ],
   "source": [
    "if False :\n",
    "    print(\"成立\")\n",
    "    print(\"成立2\")\n",
    "print(\"-----\")"
   ]
  },
  {
   "cell_type": "code",
   "execution_count": 6,
   "id": "7ba89f80-0dd2-420c-8813-f1ab76a950ed",
   "metadata": {},
   "outputs": [
    {
     "name": "stdout",
     "output_type": "stream",
     "text": [
      "不成立\n",
      "-----\n"
     ]
    }
   ],
   "source": [
    "if True :\n",
    "    print(\"成立\")\n",
    "else :\n",
    "    print(\"不成立\")\n",
    "print(\"-----\")"
   ]
  },
  {
   "cell_type": "code",
   "execution_count": null,
   "id": "f9055c1c-e494-4035-85d8-6073cc2b9a5e",
   "metadata": {},
   "outputs": [],
   "source": []
  }
 ],
 "metadata": {
  "kernelspec": {
   "display_name": "Python 3 (ipykernel)",
   "language": "python",
   "name": "python3"
  },
  "language_info": {
   "codemirror_mode": {
    "name": "ipython",
    "version": 3
   },
   "file_extension": ".py",
   "mimetype": "text/x-python",
   "name": "python",
   "nbconvert_exporter": "python",
   "pygments_lexer": "ipython3",
   "version": "3.9.12"
  }
 },
 "nbformat": 4,
 "nbformat_minor": 5
}
