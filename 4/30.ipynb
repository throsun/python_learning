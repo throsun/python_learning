{
 "cells": [
  {
   "cell_type": "code",
   "execution_count": 5,
   "id": "2d233289-72fc-4b77-bfda-38b41b4a1926",
   "metadata": {},
   "outputs": [
    {
     "name": "stdout",
     "output_type": "stream",
     "text": [
      "Something's wrong with the internet\n"
     ]
    }
   ],
   "source": [
    "http_response_status = 500\n",
    "\n",
    "match http_response_status:\n",
    "        case 400:\n",
    "            print(\"Bad request\" )\n",
    "        case 404:\n",
    "            print( \"Not found\")\n",
    "        case 418:\n",
    "            print( \"I'm a teapot\")\n",
    "        case _:\n",
    "            print( \"Something's wrong with the internet\")"
   ]
  }
 ],
 "metadata": {
  "kernelspec": {
   "display_name": "Python 3.10.7 64-bit",
   "language": "python",
   "name": "python3"
  },
  "language_info": {
   "codemirror_mode": {
    "name": "ipython",
    "version": 3
   },
   "file_extension": ".py",
   "mimetype": "text/x-python",
   "name": "python",
   "nbconvert_exporter": "python",
   "pygments_lexer": "ipython3",
   "version": "3.10.7"
  },
  "vscode": {
   "interpreter": {
    "hash": "aee8b7b246df8f9039afb4144a1f6fd8d2ca17a180786b69acc140d282b71a49"
   }
  }
 },
 "nbformat": 4,
 "nbformat_minor": 5
}
