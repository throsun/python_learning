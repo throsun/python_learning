{
 "cells": [
  {
   "cell_type": "code",
   "execution_count": 2,
   "id": "2d233289-72fc-4b77-bfda-38b41b4a1926",
   "metadata": {},
   "outputs": [
    {
     "ename": "SyntaxError",
     "evalue": "invalid syntax (2949608802.py, line 3)",
     "output_type": "error",
     "traceback": [
      "\u001b[0;36m  Input \u001b[0;32mIn [2]\u001b[0;36m\u001b[0m\n\u001b[0;31m    match http_response_status:\u001b[0m\n\u001b[0m          ^\u001b[0m\n\u001b[0;31mSyntaxError\u001b[0m\u001b[0;31m:\u001b[0m invalid syntax\n"
     ]
    }
   ],
   "source": [
    "http_response_status = 400\n",
    "\n",
    "match http_response_status:\n",
    "        case 400:\n",
    "            print(\"Bad request\" )\n",
    "        case 404:\n",
    "            print( \"Not found\")\n",
    "        case 418:\n",
    "            print( \"I'm a teapot\")\n",
    "        case _:\n",
    "            print( \"Something's wrong with the internet\")"
   ]
  },
  {
   "cell_type": "code",
   "execution_count": null,
   "id": "1827824d-3e57-4ead-9d54-b169a38cc5fb",
   "metadata": {},
   "outputs": [],
   "source": []
  },
  {
   "cell_type": "code",
   "execution_count": null,
   "id": "76f6f3f4-8589-49f9-9d3a-c01333c2ed35",
   "metadata": {},
   "outputs": [],
   "source": []
  }
 ],
 "metadata": {
  "kernelspec": {
   "display_name": "Python 3 (ipykernel)",
   "language": "python",
   "name": "python3"
  },
  "language_info": {
   "codemirror_mode": {
    "name": "ipython",
    "version": 3
   },
   "file_extension": ".py",
   "mimetype": "text/x-python",
   "name": "python",
   "nbconvert_exporter": "python",
   "pygments_lexer": "ipython3",
   "version": "3.9.12"
  }
 },
 "nbformat": 4,
 "nbformat_minor": 5
}
