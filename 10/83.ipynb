{
 "cells": [
  {
   "cell_type": "code",
   "execution_count": 31,
   "metadata": {},
   "outputs": [
    {
     "ename": "NotImplementedError",
     "evalue": "",
     "output_type": "error",
     "traceback": [
      "\u001b[0;31m---------------------------------------------------------------------------\u001b[0m",
      "\u001b[0;31mNotImplementedError\u001b[0m                       Traceback (most recent call last)",
      "Cell \u001b[0;32mIn [31], line 12\u001b[0m\n\u001b[1;32m      3\u001b[0m q \u001b[39m=\u001b[39m Queue(\u001b[39m3\u001b[39m) \n\u001b[1;32m      5\u001b[0m \u001b[39m# q.put(\"11\")\u001b[39;00m\n\u001b[1;32m      6\u001b[0m \u001b[39m# q.put(\"22\")\u001b[39;00m\n\u001b[1;32m      7\u001b[0m \u001b[39m# q.put(\"33\")\u001b[39;00m\n\u001b[0;32m   (...)\u001b[0m\n\u001b[1;32m     10\u001b[0m \u001b[39m# q.full()\u001b[39;00m\n\u001b[1;32m     11\u001b[0m \u001b[39m# q.empty()\u001b[39;00m\n\u001b[0;32m---> 12\u001b[0m q\u001b[39m.\u001b[39;49mqsize()\n",
      "File \u001b[0;32m/Library/Frameworks/Python.framework/Versions/3.10/lib/python3.10/multiprocessing/queues.py:126\u001b[0m, in \u001b[0;36mQueue.qsize\u001b[0;34m(self)\u001b[0m\n\u001b[1;32m    124\u001b[0m \u001b[39mdef\u001b[39;00m \u001b[39mqsize\u001b[39m(\u001b[39mself\u001b[39m):\n\u001b[1;32m    125\u001b[0m     \u001b[39m# Raises NotImplementedError on Mac OSX because of broken sem_getvalue()\u001b[39;00m\n\u001b[0;32m--> 126\u001b[0m     \u001b[39mreturn\u001b[39;00m \u001b[39mself\u001b[39m\u001b[39m.\u001b[39m_maxsize \u001b[39m-\u001b[39m \u001b[39mself\u001b[39;49m\u001b[39m.\u001b[39;49m_sem\u001b[39m.\u001b[39;49m_semlock\u001b[39m.\u001b[39;49m_get_value()\n",
      "\u001b[0;31mNotImplementedError\u001b[0m: "
     ]
    }
   ],
   "source": [
    "from multiprocessing import Queue\n",
    "\n",
    "q = Queue(3) \n",
    "\n",
    "# q.put(\"11\")\n",
    "# q.put(\"22\")\n",
    "# q.put(\"33\")\n",
    "# q.put(\"44\")\n",
    "# q.get(\"11\")\n",
    "# q.full()\n",
    "# q.empty()\n",
    "q.qsize()  # NotImplementedError"
   ]
  },
  {
   "cell_type": "code",
   "execution_count": 33,
   "metadata": {},
   "outputs": [
    {
     "data": {
      "text/plain": [
       "b'thank you'"
      ]
     },
     "execution_count": 33,
     "metadata": {},
     "output_type": "execute_result"
    }
   ],
   "source": [
    "from multiprocessing import Pipe\n",
    "\n",
    "a, b = Pipe()\n",
    "\n",
    "a.send([1, 'hello', None])\n",
    "\n",
    "b.recv()\n",
    "# [1, 'hello', None]\n",
    "\n",
    "# b.send_bytes(b'thank you')\n",
    "\n",
    "# a.recv_bytes()\n",
    "# b'thank you'"
   ]
  }
 ],
 "metadata": {
  "kernelspec": {
   "display_name": "Python 3.10.7 64-bit",
   "language": "python",
   "name": "python3"
  },
  "language_info": {
   "codemirror_mode": {
    "name": "ipython",
    "version": 3
   },
   "file_extension": ".py",
   "mimetype": "text/x-python",
   "name": "python",
   "nbconvert_exporter": "python",
   "pygments_lexer": "ipython3",
   "version": "3.10.7"
  },
  "orig_nbformat": 4,
  "vscode": {
   "interpreter": {
    "hash": "7e1998ff7f8aa20ada591c520b972326324e5ea05489af9e422744c7c09f6dad"
   }
  }
 },
 "nbformat": 4,
 "nbformat_minor": 2
}
