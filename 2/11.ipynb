{
 "cells": [
  {
   "cell_type": "markdown",
   "id": "eadb282d-6d77-40ec-a40e-1a0f2576923b",
   "metadata": {},
   "source": [
    "int(123.456)"
   ]
  },
  {
   "cell_type": "code",
   "execution_count": 1,
   "id": "f8f6166e-d236-4bf5-8fcf-00914afee8eb",
   "metadata": {},
   "outputs": [
    {
     "name": "stdout",
     "output_type": "stream",
     "text": [
      "123\n"
     ]
    }
   ],
   "source": [
    "print( int(123.456) )"
   ]
  },
  {
   "cell_type": "code",
   "execution_count": 6,
   "id": "1301fa7f-a27e-4902-8841-3072f1dd2b91",
   "metadata": {},
   "outputs": [
    {
     "name": "stdout",
     "output_type": "stream",
     "text": [
      "<class 'int'>\n"
     ]
    }
   ],
   "source": [
    "abc = \"123\"\n",
    "xyz = int(abc)\n",
    "print( type(xyz) )"
   ]
  },
  {
   "cell_type": "code",
   "execution_count": null,
   "id": "058b0b65-16d7-4a7c-b83f-2ffbfb1612dd",
   "metadata": {},
   "outputs": [],
   "source": []
  }
 ],
 "metadata": {
  "kernelspec": {
   "display_name": "Python 3 (ipykernel)",
   "language": "python",
   "name": "python3"
  },
  "language_info": {
   "codemirror_mode": {
    "name": "ipython",
    "version": 3
   },
   "file_extension": ".py",
   "mimetype": "text/x-python",
   "name": "python",
   "nbconvert_exporter": "python",
   "pygments_lexer": "ipython3",
   "version": "3.9.12"
  }
 },
 "nbformat": 4,
 "nbformat_minor": 5
}
