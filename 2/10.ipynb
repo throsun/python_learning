{
 "cells": [
  {
   "cell_type": "code",
   "execution_count": 1,
   "id": "6db484eb-a3e7-47f7-b356-a9b632cc7645",
   "metadata": {},
   "outputs": [
    {
     "name": "stdout",
     "output_type": "stream",
     "text": [
      "Hello Python\n"
     ]
    }
   ],
   "source": [
    "print(\"Hello Python\")"
   ]
  },
  {
   "cell_type": "code",
   "execution_count": 5,
   "id": "3ba9e92b-ea57-4106-b7cb-732dffba6479",
   "metadata": {},
   "outputs": [
    {
     "name": "stdout",
     "output_type": "stream",
     "text": [
      "Hello \" Python \" \n"
     ]
    }
   ],
   "source": [
    "print( 'Hello \" Python \" ' )"
   ]
  },
  {
   "cell_type": "code",
   "execution_count": 6,
   "id": "8d63c473-3732-4d18-a0fb-21fc6aeb9e52",
   "metadata": {},
   "outputs": [
    {
     "name": "stdout",
     "output_type": "stream",
     "text": [
      "\n",
      "Hello \n",
      "Python\n",
      "\n"
     ]
    }
   ],
   "source": [
    "print( '''\n",
    "Hello \n",
    "Python\n",
    "''' )"
   ]
  },
  {
   "cell_type": "code",
   "execution_count": 8,
   "id": "67b4038b-400b-4818-9bc1-d24f0e8ee60b",
   "metadata": {},
   "outputs": [
    {
     "name": "stdout",
     "output_type": "stream",
     "text": [
      "123： 123 是变量 x 的值 \n"
     ]
    }
   ],
   "source": [
    "x = 123\n",
    "print( f\"{x}： {x} 是变量 x 的值 \" )"
   ]
  },
  {
   "cell_type": "code",
   "execution_count": 11,
   "id": "24d3a1d7-e591-4d81-9d3a-74fa47071028",
   "metadata": {},
   "outputs": [
    {
     "data": {
      "text/plain": [
       "True"
      ]
     },
     "execution_count": 11,
     "metadata": {},
     "output_type": "execute_result"
    }
   ],
   "source": [
    "\"xy\" in \"123xy456\" "
   ]
  },
  {
   "cell_type": "code",
   "execution_count": 12,
   "id": "707798b1-004a-4634-bfac-844967323851",
   "metadata": {},
   "outputs": [
    {
     "data": {
      "text/plain": [
       "False"
      ]
     },
     "execution_count": 12,
     "metadata": {},
     "output_type": "execute_result"
    }
   ],
   "source": [
    "\"x\" not in \"123x456\""
   ]
  },
  {
   "cell_type": "code",
   "execution_count": 13,
   "id": "40c38082-2f9a-416c-8db6-36d7984b3dd1",
   "metadata": {},
   "outputs": [
    {
     "data": {
      "text/plain": [
       "'abcxyz'"
      ]
     },
     "execution_count": 13,
     "metadata": {},
     "output_type": "execute_result"
    }
   ],
   "source": [
    "\"abc\" + \"xyz\""
   ]
  },
  {
   "cell_type": "code",
   "execution_count": 16,
   "id": "821caa83-184e-4836-bb8c-36a55a4d5beb",
   "metadata": {},
   "outputs": [
    {
     "name": "stdout",
     "output_type": "stream",
     "text": [
      "abcxyz\n",
      "abcabcabc\n",
      "abc\n",
      "xyz\n"
     ]
    }
   ],
   "source": [
    "x = \"abc\"\n",
    "y = \"xyz\"\n",
    "print( x + y )\n",
    "print( x * 3 )\n",
    "print( x )\n",
    "print( y )"
   ]
  },
  {
   "cell_type": "code",
   "execution_count": 24,
   "id": "9447acd8-1f9c-4a4e-bee6-064580842feb",
   "metadata": {},
   "outputs": [
    {
     "name": "stdout",
     "output_type": "stream",
     "text": [
      "a\n",
      "g\n",
      "bd\n"
     ]
    }
   ],
   "source": [
    "s = \"abcdefg\"\n",
    "print(s[0])\n",
    "print(s[-1])\n",
    "print(s[1:5:2])"
   ]
  },
  {
   "cell_type": "code",
   "execution_count": 41,
   "id": "6bd237a5-120e-407d-9907-fbfe028bb0ff",
   "metadata": {},
   "outputs": [
    {
     "data": {
      "text/plain": [
       "3"
      ]
     },
     "execution_count": 41,
     "metadata": {},
     "output_type": "execute_result"
    }
   ],
   "source": [
    "\"xyzxyzxyz\".count('x')"
   ]
  },
  {
   "cell_type": "code",
   "execution_count": 43,
   "id": "81e4ccc3-c4e9-45ba-99f4-29e87a2bbb05",
   "metadata": {},
   "outputs": [
    {
     "data": {
      "text/plain": [
       "2"
      ]
     },
     "execution_count": 43,
     "metadata": {},
     "output_type": "execute_result"
    }
   ],
   "source": [
    "\"xyzxyzxz\".count('xy')"
   ]
  },
  {
   "cell_type": "code",
   "execution_count": 44,
   "id": "9208aed7-45d2-43b0-8dbe-af3b5b5b65aa",
   "metadata": {},
   "outputs": [
    {
     "data": {
      "text/plain": [
       "0"
      ]
     },
     "execution_count": 44,
     "metadata": {},
     "output_type": "execute_result"
    }
   ],
   "source": [
    "\"xyzxyzxz\".count('a')"
   ]
  },
  {
   "cell_type": "code",
   "execution_count": 45,
   "id": "7ed04ee2-7879-4705-95e6-4bbaa8b3b1fe",
   "metadata": {},
   "outputs": [
    {
     "data": {
      "text/plain": [
       "True"
      ]
     },
     "execution_count": 45,
     "metadata": {},
     "output_type": "execute_result"
    }
   ],
   "source": [
    "\"xyzxyzxz\".isalnum()"
   ]
  },
  {
   "cell_type": "code",
   "execution_count": 46,
   "id": "221bfeb2-e895-4bc8-9b3b-12419558e6d9",
   "metadata": {},
   "outputs": [
    {
     "data": {
      "text/plain": [
       "True"
      ]
     },
     "execution_count": 46,
     "metadata": {},
     "output_type": "execute_result"
    }
   ],
   "source": [
    "\"xyzxyzxz\".isalpha()"
   ]
  },
  {
   "cell_type": "code",
   "execution_count": 47,
   "id": "4d3e6ce7-f999-4da2-9936-978d35cd2632",
   "metadata": {},
   "outputs": [
    {
     "data": {
      "text/plain": [
       "'a,b,c,d,e,f,g'"
      ]
     },
     "execution_count": 47,
     "metadata": {},
     "output_type": "execute_result"
    }
   ],
   "source": [
    "\",\".join(\"abcdefg\")"
   ]
  },
  {
   "cell_type": "code",
   "execution_count": 48,
   "id": "77c0c678-e1e6-48ff-acfe-7fc4f5772c7f",
   "metadata": {},
   "outputs": [
    {
     "data": {
      "text/plain": [
       "['a', 'b', 'c', 'd']"
      ]
     },
     "execution_count": 48,
     "metadata": {},
     "output_type": "execute_result"
    }
   ],
   "source": [
    "\"a,b,c,d\".split(\",\")"
   ]
  },
  {
   "cell_type": "code",
   "execution_count": 51,
   "id": "cdcffa9a-d0f9-42d7-bbbf-ec7d68ae04ab",
   "metadata": {},
   "outputs": [
    {
     "data": {
      "text/plain": [
       "False"
      ]
     },
     "execution_count": 51,
     "metadata": {},
     "output_type": "execute_result"
    }
   ],
   "source": [
    "\"xyz\".startswith(\"y\")"
   ]
  },
  {
   "cell_type": "code",
   "execution_count": null,
   "id": "e1ea27fc-045b-4a18-a756-a0883849b216",
   "metadata": {},
   "outputs": [],
   "source": []
  }
 ],
 "metadata": {
  "kernelspec": {
   "display_name": "Python 3 (ipykernel)",
   "language": "python",
   "name": "python3"
  },
  "language_info": {
   "codemirror_mode": {
    "name": "ipython",
    "version": 3
   },
   "file_extension": ".py",
   "mimetype": "text/x-python",
   "name": "python",
   "nbconvert_exporter": "python",
   "pygments_lexer": "ipython3",
   "version": "3.9.12"
  }
 },
 "nbformat": 4,
 "nbformat_minor": 5
}
