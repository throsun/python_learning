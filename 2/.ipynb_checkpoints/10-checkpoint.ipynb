{
 "cells": [
  {
   "cell_type": "code",
   "execution_count": 1,
   "id": "6db484eb-a3e7-47f7-b356-a9b632cc7645",
   "metadata": {},
   "outputs": [
    {
     "name": "stdout",
     "output_type": "stream",
     "text": [
      "Hello Python\n"
     ]
    }
   ],
   "source": [
    "print(\"Hello Python\")"
   ]
  },
  {
   "cell_type": "code",
   "execution_count": 5,
   "id": "3ba9e92b-ea57-4106-b7cb-732dffba6479",
   "metadata": {},
   "outputs": [
    {
     "name": "stdout",
     "output_type": "stream",
     "text": [
      "Hello \" Python \" \n"
     ]
    }
   ],
   "source": [
    "print( 'Hello \" Python \" ' )"
   ]
  },
  {
   "cell_type": "code",
   "execution_count": 6,
   "id": "8d63c473-3732-4d18-a0fb-21fc6aeb9e52",
   "metadata": {},
   "outputs": [
    {
     "name": "stdout",
     "output_type": "stream",
     "text": [
      "\n",
      "Hello \n",
      "Python\n",
      "\n"
     ]
    }
   ],
   "source": [
    "print( '''\n",
    "Hello \n",
    "Python\n",
    "''' )"
   ]
  },
  {
   "cell_type": "code",
   "execution_count": 8,
   "id": "67b4038b-400b-4818-9bc1-d24f0e8ee60b",
   "metadata": {},
   "outputs": [
    {
     "name": "stdout",
     "output_type": "stream",
     "text": [
      "123： 123 是变量 x 的值 \n"
     ]
    }
   ],
   "source": [
    "x = 123\n",
    "print( f\"{x}： {x} 是变量 x 的值 \" )"
   ]
  },
  {
   "cell_type": "code",
   "execution_count": 11,
   "id": "24d3a1d7-e591-4d81-9d3a-74fa47071028",
   "metadata": {},
   "outputs": [
    {
     "data": {
      "text/plain": [
       "True"
      ]
     },
     "execution_count": 11,
     "metadata": {},
     "output_type": "execute_result"
    }
   ],
   "source": [
    "\"xy\" in \"123xy456\" "
   ]
  },
  {
   "cell_type": "code",
   "execution_count": 12,
   "id": "707798b1-004a-4634-bfac-844967323851",
   "metadata": {},
   "outputs": [
    {
     "data": {
      "text/plain": [
       "False"
      ]
     },
     "execution_count": 12,
     "metadata": {},
     "output_type": "execute_result"
    }
   ],
   "source": [
    "\"x\" not in \"123x456\""
   ]
  },
  {
   "cell_type": "code",
   "execution_count": null,
   "id": "40c38082-2f9a-416c-8db6-36d7984b3dd1",
   "metadata": {},
   "outputs": [],
   "source": []
  }
 ],
 "metadata": {
  "kernelspec": {
   "display_name": "Python 3 (ipykernel)",
   "language": "python",
   "name": "python3"
  },
  "language_info": {
   "codemirror_mode": {
    "name": "ipython",
    "version": 3
   },
   "file_extension": ".py",
   "mimetype": "text/x-python",
   "name": "python",
   "nbconvert_exporter": "python",
   "pygments_lexer": "ipython3",
   "version": "3.9.12"
  }
 },
 "nbformat": 4,
 "nbformat_minor": 5
}
