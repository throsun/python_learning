{
 "cells": [
  {
   "cell_type": "code",
   "execution_count": 21,
   "id": "122fe71c-4c60-41c2-b3ac-c56f4c665710",
   "metadata": {},
   "outputs": [
    {
     "ename": "ValueError",
     "evalue": "value error !!!!",
     "output_type": "error",
     "traceback": [
      "\u001b[0;31m---------------------------------------------------------------------------\u001b[0m",
      "\u001b[0;31mValueError\u001b[0m                                Traceback (most recent call last)",
      "Input \u001b[0;32mIn [21]\u001b[0m, in \u001b[0;36m<cell line: 1>\u001b[0;34m()\u001b[0m\n\u001b[0;32m----> 1\u001b[0m \u001b[38;5;28;01mraise\u001b[39;00m \u001b[38;5;167;01mValueError\u001b[39;00m(\u001b[38;5;124m\"\u001b[39m\u001b[38;5;124mvalue error !!!!\u001b[39m\u001b[38;5;124m\"\u001b[39m)\n",
      "\u001b[0;31mValueError\u001b[0m: value error !!!!"
     ]
    }
   ],
   "source": [
    "raise ValueError(\"value error !!!!\")\n"
   ]
  },
  {
   "cell_type": "code",
   "execution_count": 16,
   "id": "61cc2e79-4d5c-4309-a01f-4d947a3867ec",
   "metadata": {},
   "outputs": [
    {
     "ename": "MyException",
     "evalue": "",
     "output_type": "error",
     "traceback": [
      "\u001b[0;31m---------------------------------------------------------------------------\u001b[0m",
      "\u001b[0;31mMyException\u001b[0m                               Traceback (most recent call last)",
      "Input \u001b[0;32mIn [16]\u001b[0m, in \u001b[0;36m<cell line: 1>\u001b[0;34m()\u001b[0m\n\u001b[0;32m----> 1\u001b[0m \u001b[38;5;28;01mraise\u001b[39;00m MyException\n",
      "\u001b[0;31mMyException\u001b[0m: "
     ]
    }
   ],
   "source": [
    "class NameError(Exception):\n",
    "    def __init__(self, message):\n",
    "        self.message = message\n",
    "    \n",
    "    @property\n",
    "    def msg(self):\n",
    "        return f\"名字不允许使用 {self.message}\""
   ]
  },
  {
   "cell_type": "code",
   "execution_count": 23,
   "id": "8f4976d4-f95e-4725-b742-494ddbefbb29",
   "metadata": {},
   "outputs": [
    {
     "name": "stdout",
     "output_type": "stream",
     "text": [
      "名字不能使用 jerry\n"
     ]
    }
   ],
   "source": [
    "\n",
    "name = \"jerry\"\n",
    "try:\n",
    "    if name == \"jerry\":\n",
    "        raise NameError(name)\n",
    "\n",
    "except NameError as ne:\n",
    "    print(ne.msg)"
   ]
  },
  {
   "cell_type": "code",
   "execution_count": null,
   "id": "80ce6409-3b8d-4425-9b73-4c082591f628",
   "metadata": {},
   "outputs": [],
   "source": []
  }
 ],
 "metadata": {
  "kernelspec": {
   "display_name": "Python 3 (ipykernel)",
   "language": "python",
   "name": "python3"
  },
  "language_info": {
   "codemirror_mode": {
    "name": "ipython",
    "version": 3
   },
   "file_extension": ".py",
   "mimetype": "text/x-python",
   "name": "python",
   "nbconvert_exporter": "python",
   "pygments_lexer": "ipython3",
   "version": "3.9.12"
  }
 },
 "nbformat": 4,
 "nbformat_minor": 5
}
