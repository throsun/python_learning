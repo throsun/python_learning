{
 "cells": [
  {
   "cell_type": "code",
   "execution_count": 17,
   "id": "96864704-9dc5-411d-a8dc-a4357df2702d",
   "metadata": {},
   "outputs": [
    {
     "name": "stdout",
     "output_type": "stream",
     "text": [
      "<class 'list'>\n",
      "['a', 'b', 'c', 'd', 'e', ['f', 'g']]\n"
     ]
    }
   ],
   "source": [
    "list_demo = ['a', 'b', 'c', 'd', 'e', ['f','g']]\n",
    "print(type(list_demo))\n",
    "print(list_demo)"
   ]
  },
  {
   "cell_type": "code",
   "execution_count": 18,
   "id": "39c3c2c3-908a-4ab6-ba7b-e4122e44b15e",
   "metadata": {},
   "outputs": [],
   "source": [
    "list_demo.insert(0,\"first\")"
   ]
  },
  {
   "cell_type": "code",
   "execution_count": 19,
   "id": "51acfcaa-3246-4660-a612-f59b9c0fae14",
   "metadata": {},
   "outputs": [
    {
     "name": "stdout",
     "output_type": "stream",
     "text": [
      "['first', 'a', 'b', 'c', 'd', 'e', ['f', 'g']]\n"
     ]
    }
   ],
   "source": [
    "print(list_demo)"
   ]
  },
  {
   "cell_type": "code",
   "execution_count": 20,
   "id": "c736b286-b73e-429a-9a5b-387d6f66ea55",
   "metadata": {},
   "outputs": [
    {
     "name": "stdout",
     "output_type": "stream",
     "text": [
      "['first', 'a', 'b', 'c', 'd', 'e', 'last', ['f', 'g']]\n"
     ]
    }
   ],
   "source": [
    "list_demo.insert(-1,\"last\")\n",
    "print(list_demo)"
   ]
  },
  {
   "cell_type": "code",
   "execution_count": 21,
   "id": "799003d5-1dfc-43b2-94c3-89b0cca68f7a",
   "metadata": {},
   "outputs": [
    {
     "name": "stdout",
     "output_type": "stream",
     "text": [
      "['first', 'a', 'b', 'c', 'd', 'e', 'last', ['f', 'g'], 'last_one']\n"
     ]
    }
   ],
   "source": [
    "list_demo.append(\"last_one\")\n",
    "print(list_demo)"
   ]
  },
  {
   "cell_type": "code",
   "execution_count": 22,
   "id": "26cf37de-cd57-44e5-9d40-1d6e90c8753b",
   "metadata": {},
   "outputs": [
    {
     "name": "stdout",
     "output_type": "stream",
     "text": [
      "['first', 'a', 'b', 'c', 'd', 'e', 'last', ['f', 'g'], 'last_one', 'l', 'a', 's', 't', '_', 'o', 'n', 'e']\n"
     ]
    }
   ],
   "source": [
    "list_demo.extend(\"last_one\")\n",
    "print(list_demo)"
   ]
  },
  {
   "cell_type": "code",
   "execution_count": 23,
   "id": "21aaa7a8-0157-4637-9fdf-98bf9623de0e",
   "metadata": {},
   "outputs": [
    {
     "name": "stdout",
     "output_type": "stream",
     "text": [
      "['first', 'a', 'b', 'c', 'd', 'e', 'last', ['f', 'g'], 'l', 'a', 's', 't', '_', 'o', 'n', 'e']\n"
     ]
    }
   ],
   "source": [
    "list_demo.remove(\"last_one\")\n",
    "print(list_demo)"
   ]
  },
  {
   "cell_type": "code",
   "execution_count": 24,
   "id": "2759d901-37b0-477a-8d30-32816f44a385",
   "metadata": {},
   "outputs": [
    {
     "name": "stdout",
     "output_type": "stream",
     "text": [
      "list is ['a', 'b', 'c', 'd', 'e', 'last', ['f', 'g'], 'l', 'a', 's', 't', '_', 'o', 'n', 'e']\n",
      "result is first\n"
     ]
    }
   ],
   "source": [
    "result = list_demo.pop(0)\n",
    "print(f\"list is {list_demo}\")\n",
    "print(f\"result is {result}\")"
   ]
  },
  {
   "cell_type": "code",
   "execution_count": null,
   "id": "9db72202-5203-4811-a72c-5778237196f4",
   "metadata": {},
   "outputs": [],
   "source": []
  }
 ],
 "metadata": {
  "kernelspec": {
   "display_name": "Python 3 (ipykernel)",
   "language": "python",
   "name": "python3"
  },
  "language_info": {
   "codemirror_mode": {
    "name": "ipython",
    "version": 3
   },
   "file_extension": ".py",
   "mimetype": "text/x-python",
   "name": "python",
   "nbconvert_exporter": "python",
   "pygments_lexer": "ipython3",
   "version": "3.9.12"
  }
 },
 "nbformat": 4,
 "nbformat_minor": 5
}
