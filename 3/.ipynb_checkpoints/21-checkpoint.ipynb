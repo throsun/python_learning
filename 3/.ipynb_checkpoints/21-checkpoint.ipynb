{
 "cells": [
  {
   "cell_type": "code",
   "execution_count": 17,
   "id": "14c9db79-d61c-4b9f-80c7-7c746c335dfb",
   "metadata": {},
   "outputs": [
    {
     "name": "stdout",
     "output_type": "stream",
     "text": [
      "{'g', 'r', 'b'}\n",
      "('g', 'r', 'b')\n"
     ]
    }
   ],
   "source": [
    "color = ('r', 'g', 'b', 'g', 'b', 'b') # tuple\n",
    "new_color = set(color) # set\n",
    "print(new_color)\n",
    "\n",
    "\n",
    "new_color_2 = tuple(new_color) #tuple\n",
    "print(new_color_2)"
   ]
  },
  {
   "cell_type": "code",
   "execution_count": null,
   "id": "7cac8893-1083-4977-a32f-0fff9e9c148b",
   "metadata": {},
   "outputs": [],
   "source": []
  }
 ],
 "metadata": {
  "kernelspec": {
   "display_name": "Python 3 (ipykernel)",
   "language": "python",
   "name": "python3"
  },
  "language_info": {
   "codemirror_mode": {
    "name": "ipython",
    "version": 3
   },
   "file_extension": ".py",
   "mimetype": "text/x-python",
   "name": "python",
   "nbconvert_exporter": "python",
   "pygments_lexer": "ipython3",
   "version": "3.9.12"
  }
 },
 "nbformat": 4,
 "nbformat_minor": 5
}
