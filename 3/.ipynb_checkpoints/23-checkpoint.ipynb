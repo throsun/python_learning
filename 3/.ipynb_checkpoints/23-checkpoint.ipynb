{
 "cells": [
  {
   "cell_type": "code",
   "execution_count": null,
   "id": "2f910ade-0c1a-4c90-aeb7-e38a863d6856",
   "metadata": {},
   "outputs": [],
   "source": [
    "list_name = ['name1', 'name2', 'name3']\n",
    "list_sn = [1111, 2222, 3333]\n",
    "\n",
    "name_sn = { list_name[0]:list_sn[0], list_name[1]:list_sn[1], list_name[2]:list_sn[2] }\n",
    "print(name_sn)\n",
    "\n",
    "\n",
    "\n"
   ]
  },
  {
   "cell_type": "code",
   "execution_count": 18,
   "id": "cc95c459-833d-47fb-9390-1aa4b2426861",
   "metadata": {},
   "outputs": [],
   "source": [
    "mail_list = {'tom': 'tom@gmail.com', 'jerry': 'jerry@foxmail.com', 'john': 'john@163.com'}\n"
   ]
  },
  {
   "cell_type": "code",
   "execution_count": null,
   "id": "d42c73b3-db8e-4d49-af79-25888ec090c0",
   "metadata": {},
   "outputs": [],
   "source": [
    "# 访问列表里的所有元素\n",
    "mail_list.items()\n",
    "# mail_list.keys() # 键\n",
    "# mail_list.values() # 值"
   ]
  },
  {
   "cell_type": "code",
   "execution_count": null,
   "id": "90e2e68b-6051-475c-80a6-1c6f53913a10",
   "metadata": {},
   "outputs": [],
   "source": [
    "# 访问列表里的指定元素\n",
    "mail_list.get('tom')\n",
    "mail_list['tom']"
   ]
  },
  {
   "cell_type": "code",
   "execution_count": 19,
   "id": "d0d5be8e-d48c-4851-bad2-b1ab2c9cd726",
   "metadata": {},
   "outputs": [
    {
     "name": "stdout",
     "output_type": "stream",
     "text": [
      "tom\n",
      "tom@gmail.com\n",
      "jerry\n",
      "jerry@foxmail.com\n",
      "john\n",
      "john@163.com\n"
     ]
    }
   ],
   "source": [
    "# 遍历字典\n",
    "for key, value in mail_list.items():\n",
    "    print(key)\n",
    "    print(value)\n"
   ]
  },
  {
   "cell_type": "code",
   "execution_count": null,
   "id": "4a8cfc4f-9380-4eb2-938c-458e11f4ef4e",
   "metadata": {},
   "outputs": [],
   "source": [
    "# mail_list.pop(\"tom\")\n",
    "mail_list.popitem()\n",
    "print(mail_list)"
   ]
  },
  {
   "cell_type": "code",
   "execution_count": 22,
   "id": "791ef73a-fda8-484b-8a91-2c377ebba28a",
   "metadata": {},
   "outputs": [
    {
     "name": "stdout",
     "output_type": "stream",
     "text": [
      "abc@abc.com\n",
      "{'tom': 'tom@gmail.com', 'jerry': 'jerry@foxmail.com', 'john': 'john@163.com', 'tom2': None, 'tom3': 'abc@abc.com'}\n"
     ]
    }
   ],
   "source": [
    "# 字典默认值\n",
    "tom_mail = mail_list.setdefault('tom3',\"xyz@abc.com\")\n",
    "print(tom_mail)\n",
    "print(mail_list)"
   ]
  },
  {
   "cell_type": "code",
   "execution_count": null,
   "id": "98154cbb-6ef8-4ea4-90f1-865746437c63",
   "metadata": {},
   "outputs": [],
   "source": []
  }
 ],
 "metadata": {
  "kernelspec": {
   "display_name": "Python 3 (ipykernel)",
   "language": "python",
   "name": "python3"
  },
  "language_info": {
   "codemirror_mode": {
    "name": "ipython",
    "version": 3
   },
   "file_extension": ".py",
   "mimetype": "text/x-python",
   "name": "python",
   "nbconvert_exporter": "python",
   "pygments_lexer": "ipython3",
   "version": "3.9.12"
  }
 },
 "nbformat": 4,
 "nbformat_minor": 5
}
