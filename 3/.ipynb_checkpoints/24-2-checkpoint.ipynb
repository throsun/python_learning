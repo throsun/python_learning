{
 "cells": [
  {
   "cell_type": "code",
   "execution_count": 1,
   "metadata": {},
   "outputs": [
    {
     "name": "stdout",
     "output_type": "stream",
     "text": [
      "['张三,同事,13511112222\\n', '李四,朋友,13900001111\\n', '王武,同事,18912344321']\n"
     ]
    }
   ],
   "source": [
    "with open(\"./24-demo.csv\") as f:\n",
    "    file_data = f.readlines()\n",
    "    print(file_data)"
   ]
  },
  {
   "cell_type": "code",
   "execution_count": 2,
   "metadata": {},
   "outputs": [
    {
     "name": "stdout",
     "output_type": "stream",
     "text": [
      "Defaulting to user installation because normal site-packages is not writeable\n",
      "Looking in indexes: https://mirrors.aliyun.com/pypi/simple/\n",
      "Requirement already satisfied: tinydb in /Users/wilson/Library/Python/3.9/lib/python/site-packages (4.7.0)\n",
      "\u001b[33mWARNING: You are using pip version 21.2.4; however, version 22.2.2 is available.\n",
      "You should consider upgrading via the '/Library/Developer/CommandLineTools/usr/bin/python3 -m pip install --upgrade pip' command.\u001b[0m\n"
     ]
    }
   ],
   "source": [
    "# 安装软件包并导入当前代码\n",
    "! pip3 install tinydb\n",
    "from tinydb import TinyDB"
   ]
  },
  {
   "cell_type": "code",
   "execution_count": null,
   "metadata": {},
   "outputs": [],
   "source": [
    "# 指定存放通讯录的文件\n",
    "db = TinyDB('./db.json')\n",
    "\n",
    "# 将csv格式的文件，进行格式转换，并存入到通讯录文件\n",
    "friend_1 = {'name':file_data[0].split(',')[0], 'source':file_data[0].split(',')[1], 'tel':file_data[0].split(',')[2].strip()}\n",
    "friend_2 = {'name':file_data[1].split(',')[0], 'source':file_data[1].split(',')[1], 'tel':file_data[1].split(',')[2].strip()}\n",
    "friend_3 = {'name':file_data[2].split(',')[0], 'source':file_data[2].split(',')[1], 'tel':file_data[2].split(',')[2].strip()}\n",
    "\"\"\"\n",
    "问题：\n",
    "1 假如文件中有更多的行怎样简便处理？\n",
    "2 怎样知道已经处理完所有的行了？\n",
    "3 如果文件格式不规范怎么办？\n",
    "4 这么写很啰嗦，有没有更优雅的写法？\n",
    "\"\"\"\n",
    "\n",
    "\n",
    "# 将通讯录中的好友信息写入数据库\n",
    "db.insert_multiple([\n",
    "    friend_1,\n",
    "    friend_2,\n",
    "    friend_3\n",
    "])\n",
    "\n",
    "\n"
   ]
  },
  {
   "cell_type": "code",
   "execution_count": null,
   "metadata": {},
   "outputs": [],
   "source": [
    "# 查看通讯录中全部好友\n",
    "db.all()"
   ]
  },
  {
   "cell_type": "code",
   "execution_count": null,
   "metadata": {},
   "outputs": [],
   "source": [
    "# 根据姓名查电话\n",
    "from tinydb import Query\n",
    "friend = Query()\n",
    "friend_info = db.search(friend.name == \"张三\")\n",
    "\n",
    "print(friend_info)\n",
    "\n",
    "print(f\" {friend_info[0]['name']} 的 电话是 {friend_info[0]['tel']} \" )\n",
    "\n",
    "\n",
    "\"\"\"\n",
    "TinyDB 是纯Python实现的数据库\n",
    "它还能支持更新、删除、复杂查询等操作\n",
    "更多功能请参考官方文档\n",
    "https://pypi.org/project/tinydb/\n",
    "\"\"\""
   ]
  }
 ],
 "metadata": {
  "kernelspec": {
   "display_name": "Python 3 (ipykernel)",
   "language": "python",
   "name": "python3"
  },
  "language_info": {
   "codemirror_mode": {
    "name": "ipython",
    "version": 3
   },
   "file_extension": ".py",
   "mimetype": "text/x-python",
   "name": "python",
   "nbconvert_exporter": "python",
   "pygments_lexer": "ipython3",
   "version": "3.9.12"
  },
  "vscode": {
   "interpreter": {
    "hash": "397704579725e15f5c7cb49fe5f0341eb7531c82d19f2c29d197e8b64ab5776b"
   }
  }
 },
 "nbformat": 4,
 "nbformat_minor": 4
}
