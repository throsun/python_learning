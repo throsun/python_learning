{
 "cells": [
  {
   "cell_type": "code",
   "execution_count": 1,
   "id": "eab7ee88-acfc-4624-b87f-938e0a019e83",
   "metadata": {},
   "outputs": [
    {
     "name": "stdout",
     "output_type": "stream",
     "text": [
      "test66\n"
     ]
    }
   ],
   "source": [
    "import test66 as t"
   ]
  },
  {
   "cell_type": "code",
   "execution_count": 2,
   "id": "77949d03-271f-46e2-b349-2766dbe09bf8",
   "metadata": {},
   "outputs": [
    {
     "data": {
      "text/plain": [
       "['Class1',\n",
       " '__builtins__',\n",
       " '__cached__',\n",
       " '__doc__',\n",
       " '__file__',\n",
       " '__loader__',\n",
       " '__name__',\n",
       " '__package__',\n",
       " '__spec__',\n",
       " 'func1',\n",
       " 'var1']"
      ]
     },
     "execution_count": 2,
     "metadata": {},
     "output_type": "execute_result"
    }
   ],
   "source": [
    "dir(t)"
   ]
  },
  {
   "cell_type": "code",
   "execution_count": 5,
   "id": "cc0c7ca0-78c4-4477-9997-4e63a28a0511",
   "metadata": {},
   "outputs": [
    {
     "data": {
      "text/plain": [
       "100"
      ]
     },
     "execution_count": 5,
     "metadata": {},
     "output_type": "execute_result"
    }
   ],
   "source": [
    "t.var1"
   ]
  },
  {
   "cell_type": "code",
   "execution_count": 6,
   "id": "7423399b-c23d-492b-8603-502c8ecc1824",
   "metadata": {},
   "outputs": [
    {
     "name": "stdout",
     "output_type": "stream",
     "text": [
      "func1 is called\n"
     ]
    }
   ],
   "source": [
    "t.func1()"
   ]
  },
  {
   "cell_type": "code",
   "execution_count": 3,
   "id": "c4576100-2b22-4ede-9cb8-eb47ab62b6f5",
   "metadata": {},
   "outputs": [
    {
     "name": "stdout",
     "output_type": "stream",
     "text": [
      "Class1 is instance\n"
     ]
    }
   ],
   "source": [
    "object1 = t.Class1()"
   ]
  },
  {
   "cell_type": "code",
   "execution_count": null,
   "id": "57cadfef-5317-404e-8fb4-d23b163fbb0a",
   "metadata": {},
   "outputs": [],
   "source": []
  }
 ],
 "metadata": {
  "kernelspec": {
   "display_name": "Python 3 (ipykernel)",
   "language": "python",
   "name": "python3"
  },
  "language_info": {
   "codemirror_mode": {
    "name": "ipython",
    "version": 3
   },
   "file_extension": ".py",
   "mimetype": "text/x-python",
   "name": "python",
   "nbconvert_exporter": "python",
   "pygments_lexer": "ipython3",
   "version": "3.9.12"
  }
 },
 "nbformat": 4,
 "nbformat_minor": 5
}
