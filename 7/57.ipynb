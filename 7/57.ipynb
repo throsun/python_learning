{
 "cells": [
  {
   "cell_type": "code",
   "execution_count": 4,
   "id": "cb82292a-21b5-45ab-acee-7e5c857bf7e5",
   "metadata": {},
   "outputs": [],
   "source": [
    "class Coffee:\n",
    "    water = 0\n",
    "    milk = 0\n",
    "\n",
    "    def addWater(self):\n",
    "        self.hotWater = 1\n",
    "        \n",
    "mocha = Coffee()\n"
   ]
  },
  {
   "cell_type": "code",
   "execution_count": 2,
   "id": "7bff7e06-d150-464a-add6-a39ac8fb747d",
   "metadata": {},
   "outputs": [
    {
     "data": {
      "text/plain": [
       "0"
      ]
     },
     "execution_count": 2,
     "metadata": {},
     "output_type": "execute_result"
    }
   ],
   "source": [
    "mocha.water"
   ]
  },
  {
   "cell_type": "code",
   "execution_count": 3,
   "id": "b425feee-5556-4ca2-8fd4-0baaeecd1e75",
   "metadata": {},
   "outputs": [
    {
     "data": {
      "text/plain": [
       "0"
      ]
     },
     "execution_count": 3,
     "metadata": {},
     "output_type": "execute_result"
    }
   ],
   "source": [
    "mocha.milk"
   ]
  },
  {
   "cell_type": "code",
   "execution_count": 5,
   "id": "a15a579e-05d3-4725-b0b9-182823c56cff",
   "metadata": {},
   "outputs": [],
   "source": [
    "mocha.addWater()"
   ]
  },
  {
   "cell_type": "code",
   "execution_count": null,
   "id": "8fc71532-7b0b-40e5-aaa3-bdd08dbeebbb",
   "metadata": {},
   "outputs": [],
   "source": []
  }
 ],
 "metadata": {
  "kernelspec": {
   "display_name": "Python 3 (ipykernel)",
   "language": "python",
   "name": "python3"
  },
  "language_info": {
   "codemirror_mode": {
    "name": "ipython",
    "version": 3
   },
   "file_extension": ".py",
   "mimetype": "text/x-python",
   "name": "python",
   "nbconvert_exporter": "python",
   "pygments_lexer": "ipython3",
   "version": "3.9.12"
  }
 },
 "nbformat": 4,
 "nbformat_minor": 5
}
