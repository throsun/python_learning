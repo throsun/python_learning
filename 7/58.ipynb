{
 "cells": [
  {
   "cell_type": "code",
   "execution_count": 8,
   "id": "e13699b0-9b1b-487c-954c-2d1fdefafd93",
   "metadata": {},
   "outputs": [],
   "source": [
    "class Father(object):\n",
    "    def run(self):\n",
    "        print(\"run in father\")\n",
    "\n",
    "class Son(Father):\n",
    "    def run(self):\n",
    "        super().run()\n",
    "        print(\"run in son\")"
   ]
  },
  {
   "cell_type": "code",
   "execution_count": 9,
   "id": "9d6ed0dd-948d-4111-84ff-3f317e175243",
   "metadata": {},
   "outputs": [
    {
     "name": "stdout",
     "output_type": "stream",
     "text": [
      "run in father\n"
     ]
    }
   ],
   "source": [
    "obj = Father()\n",
    "obj.run()"
   ]
  },
  {
   "cell_type": "code",
   "execution_count": 10,
   "id": "a66ff6ba-c635-4e5a-a70f-b0cdb76dafb9",
   "metadata": {},
   "outputs": [
    {
     "name": "stdout",
     "output_type": "stream",
     "text": [
      "run in father\n",
      "run in son\n"
     ]
    }
   ],
   "source": [
    "obj2 = Son()\n",
    "obj2.run()\n"
   ]
  },
  {
   "cell_type": "code",
   "execution_count": 11,
   "id": "29bc8409-3725-4c49-9708-8637ae6ece39",
   "metadata": {},
   "outputs": [
    {
     "data": {
      "text/plain": [
       "(__main__.Son, __main__.Father, object)"
      ]
     },
     "execution_count": 11,
     "metadata": {},
     "output_type": "execute_result"
    }
   ],
   "source": [
    "Son.__mro__"
   ]
  },
  {
   "cell_type": "code",
   "execution_count": null,
   "id": "2c47f383-404f-406e-8dd3-37ac9a665cf6",
   "metadata": {},
   "outputs": [],
   "source": []
  }
 ],
 "metadata": {
  "kernelspec": {
   "display_name": "Python 3 (ipykernel)",
   "language": "python",
   "name": "python3"
  },
  "language_info": {
   "codemirror_mode": {
    "name": "ipython",
    "version": 3
   },
   "file_extension": ".py",
   "mimetype": "text/x-python",
   "name": "python",
   "nbconvert_exporter": "python",
   "pygments_lexer": "ipython3",
   "version": "3.9.12"
  }
 },
 "nbformat": 4,
 "nbformat_minor": 5
}
