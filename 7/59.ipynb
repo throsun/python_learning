{
 "cells": [
  {
   "cell_type": "code",
   "execution_count": 4,
   "id": "0e7ffb35-18d7-4809-b4fe-f57033f011b4",
   "metadata": {},
   "outputs": [
    {
     "name": "stdout",
     "output_type": "stream",
     "text": [
      "Class method\n"
     ]
    }
   ],
   "source": [
    "class Klass1:\n",
    "      @classmethod\n",
    "      def funcs(cls): \n",
    "           print(\"Class method\")\n",
    "        \n",
    "Klass1.funcs()\n"
   ]
  },
  {
   "cell_type": "code",
   "execution_count": 8,
   "id": "a85b7df0-279e-4df9-877c-0db60fac6647",
   "metadata": {
    "tags": []
   },
   "outputs": [],
   "source": [
    "class Klass2:\n",
    "      @staticmethod\n",
    "      def func():\n",
    "          print(\"static method\")\n"
   ]
  },
  {
   "cell_type": "code",
   "execution_count": 3,
   "id": "1e654847-d485-4670-88a7-aafcc595c25e",
   "metadata": {
    "tags": []
   },
   "outputs": [
    {
     "name": "stdout",
     "output_type": "stream",
     "text": [
      "123\n"
     ]
    }
   ],
   "source": [
    "class Klass3:\n",
    "    @property\n",
    "    def func(self):\n",
    "        return self.__varName\n",
    "    @func.setter\n",
    "    def func(self, varValue):\n",
    "        self.__varName = varValue\n",
    "\n",
    "        \n",
    "        \n",
    "obj = Klass3()\n",
    "obj.func=\"123\"\n",
    "print(obj.func)"
   ]
  },
  {
   "cell_type": "code",
   "execution_count": null,
   "id": "d3e7fc53-5207-46fe-b665-f46e0cfb612e",
   "metadata": {},
   "outputs": [],
   "source": []
  }
 ],
 "metadata": {
  "kernelspec": {
   "display_name": "Python 3 (ipykernel)",
   "language": "python",
   "name": "python3"
  },
  "language_info": {
   "codemirror_mode": {
    "name": "ipython",
    "version": 3
   },
   "file_extension": ".py",
   "mimetype": "text/x-python",
   "name": "python",
   "nbconvert_exporter": "python",
   "pygments_lexer": "ipython3",
   "version": "3.9.12"
  }
 },
 "nbformat": 4,
 "nbformat_minor": 5
}
