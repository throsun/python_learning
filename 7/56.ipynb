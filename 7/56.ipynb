{
 "cells": [
  {
   "cell_type": "code",
   "execution_count": 1,
   "id": "e47fa89f-c43f-41ca-86c1-8d8e34309634",
   "metadata": {},
   "outputs": [
    {
     "name": "stdout",
     "output_type": "stream",
     "text": [
      "4331804112\n",
      "4331804112\n"
     ]
    }
   ],
   "source": [
    "num = 100\n",
    "print(id(num))\n",
    "print(id(100))"
   ]
  },
  {
   "cell_type": "code",
   "execution_count": 4,
   "id": "03ce9ab1-0bc1-4aed-962f-b4b60717926f",
   "metadata": {},
   "outputs": [
    {
     "name": "stdout",
     "output_type": "stream",
     "text": [
      "4331804112\n"
     ]
    },
    {
     "data": {
      "text/plain": [
       "True"
      ]
     },
     "execution_count": 4,
     "metadata": {},
     "output_type": "execute_result"
    }
   ],
   "source": [
    "num2 = num\n",
    "print(id(num2))\n",
    "num is num2"
   ]
  },
  {
   "cell_type": "code",
   "execution_count": 6,
   "id": "ba454af4-f90a-489e-bcbf-c955cbbcbbb3",
   "metadata": {},
   "outputs": [
    {
     "name": "stdout",
     "output_type": "stream",
     "text": [
      "456\n",
      "100\n"
     ]
    }
   ],
   "source": [
    "num = 456\n",
    "num is num2\n",
    "print(num)\n",
    "print(num2)"
   ]
  },
  {
   "cell_type": "code",
   "execution_count": 7,
   "id": "a476010e-bc5b-470d-87e0-9698de9f1103",
   "metadata": {},
   "outputs": [
    {
     "name": "stdout",
     "output_type": "stream",
     "text": [
      "4405870080\n",
      "4405901120\n"
     ]
    }
   ],
   "source": [
    "list1 = [1,2,3]\n",
    "list2 = [1,2,3]\n",
    "print(id(list1))\n",
    "print(id(list2))"
   ]
  },
  {
   "cell_type": "code",
   "execution_count": 8,
   "id": "7ecf4810-73e8-48dd-842d-9e1466a989af",
   "metadata": {},
   "outputs": [
    {
     "name": "stdout",
     "output_type": "stream",
     "text": [
      "4405870080\n",
      "4405901120\n",
      "[1, 2, 3, 4]\n",
      "[1, 2, 3]\n"
     ]
    }
   ],
   "source": [
    "list1.append(4)\n",
    "print(id(list1))\n",
    "print(id(list2))\n",
    "print(list1)\n",
    "print(list2)"
   ]
  },
  {
   "cell_type": "code",
   "execution_count": null,
   "id": "5ab46cd1-a5dc-4352-a685-3bf419421f86",
   "metadata": {},
   "outputs": [],
   "source": []
  }
 ],
 "metadata": {
  "kernelspec": {
   "display_name": "Python 3 (ipykernel)",
   "language": "python",
   "name": "python3"
  },
  "language_info": {
   "codemirror_mode": {
    "name": "ipython",
    "version": 3
   },
   "file_extension": ".py",
   "mimetype": "text/x-python",
   "name": "python",
   "nbconvert_exporter": "python",
   "pygments_lexer": "ipython3",
   "version": "3.9.12"
  }
 },
 "nbformat": 4,
 "nbformat_minor": 5
}
