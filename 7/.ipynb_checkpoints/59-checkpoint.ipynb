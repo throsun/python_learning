{
 "cells": [
  {
   "cell_type": "code",
   "execution_count": 7,
   "id": "0e7ffb35-18d7-4809-b4fe-f57033f011b4",
   "metadata": {},
   "outputs": [
    {
     "name": "stdout",
     "output_type": "stream",
     "text": [
      "Class method\n"
     ]
    }
   ],
   "source": [
    "class Klass:\n",
    "      @classmethod\n",
    "      def funcs(cls): \n",
    "           print(\"Class method\")\n",
    "        \n",
    "Klass.funcs()\n"
   ]
  },
  {
   "cell_type": "code",
   "execution_count": 8,
   "id": "a85b7df0-279e-4df9-877c-0db60fac6647",
   "metadata": {},
   "outputs": [],
   "source": [
    "class Klass():\n",
    "      @staticmethod\n",
    "      def func():\n",
    "          print(\"static method\")\n"
   ]
  },
  {
   "cell_type": "code",
   "execution_count": 10,
   "id": "1e654847-d485-4670-88a7-aafcc595c25e",
   "metadata": {},
   "outputs": [
    {
     "ename": "IndentationError",
     "evalue": "unindent does not match any outer indentation level (<tokenize>, line 6)",
     "output_type": "error",
     "traceback": [
      "\u001b[0;36m  File \u001b[0;32m<tokenize>:6\u001b[0;36m\u001b[0m\n\u001b[0;31m    @func.setter\u001b[0m\n\u001b[0m    ^\u001b[0m\n\u001b[0;31mIndentationError\u001b[0m\u001b[0;31m:\u001b[0m unindent does not match any outer indentation level\n"
     ]
    }
   ],
   "source": [
    "class Klass:\n",
    "    @property\n",
    "    def func(self):\n",
    "        return self.__varName\n",
    "    \n",
    "     @func.setter\n",
    "     def func(self, varValue):\n",
    "         self.__varName = varValue\n",
    "\n",
    "obj = Klass\n",
    "obj.func=\"123\"\n",
    "print(obj.func)"
   ]
  },
  {
   "cell_type": "code",
   "execution_count": null,
   "id": "8f4421f9-1c85-4351-867d-8d7a2e0c6e0f",
   "metadata": {},
   "outputs": [],
   "source": []
  }
 ],
 "metadata": {
  "kernelspec": {
   "display_name": "Python 3 (ipykernel)",
   "language": "python",
   "name": "python3"
  },
  "language_info": {
   "codemirror_mode": {
    "name": "ipython",
    "version": 3
   },
   "file_extension": ".py",
   "mimetype": "text/x-python",
   "name": "python",
   "nbconvert_exporter": "python",
   "pygments_lexer": "ipython3",
   "version": "3.9.12"
  }
 },
 "nbformat": 4,
 "nbformat_minor": 5
}
