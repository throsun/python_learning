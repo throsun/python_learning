{
 "cells": [
  {
   "cell_type": "code",
   "execution_count": 1,
   "id": "4805d4c7-aad9-408c-b7ca-cf845b44e0e2",
   "metadata": {},
   "outputs": [
    {
     "name": "stdout",
     "output_type": "stream",
     "text": [
      "123\n",
      "456\n",
      "789\n"
     ]
    }
   ],
   "source": [
    "def foo(number):\n",
    "    print(number)\n",
    "    \n",
    "\n",
    "n1 = 123\n",
    "n2 = 456\n",
    "n3 = 789\n",
    "\n",
    "\n",
    "foo(n1)\n",
    "foo(n2)\n",
    "foo(n3)"
   ]
  },
  {
   "cell_type": "code",
   "execution_count": null,
   "id": "e65a8584-75af-4696-9eb7-d4125487babc",
   "metadata": {},
   "outputs": [],
   "source": [
    "def foo2(n1:int,n2:int) -> float:\n",
    "    return n1 * n2\n",
    "\n"
   ]
  },
  {
   "cell_type": "code",
   "execution_count": 9,
   "id": "99bb6e50-9623-40ae-8ffc-869c4777a0cf",
   "metadata": {},
   "outputs": [],
   "source": [
    "def foo3(argv1=100, argv2=200, argv3=300):\n",
    "    print(argv1)\n",
    "    print(argv2)\n",
    "    print(argv3)\n",
    "    "
   ]
  },
  {
   "cell_type": "code",
   "execution_count": 3,
   "id": "38007b2b-793b-41a4-b582-9702d953f801",
   "metadata": {},
   "outputs": [
    {
     "name": "stdout",
     "output_type": "stream",
     "text": [
      "one\n",
      "two\n",
      "three\n"
     ]
    }
   ],
   "source": [
    "foo3(\"one\", \"two\", \"three\")"
   ]
  },
  {
   "cell_type": "code",
   "execution_count": 8,
   "id": "2d938a9c-71a0-4925-8e36-6a25bcea4b14",
   "metadata": {},
   "outputs": [
    {
     "name": "stdout",
     "output_type": "stream",
     "text": [
      "one\n",
      "two\n",
      "three\n"
     ]
    }
   ],
   "source": [
    "# foo3(\"one\", \"three\", \"two\")\n",
    "# foo3(argv1=\"one\", argv3=\"three\", argv2=\"two\")\n",
    "foo3(\"one\", argv3=\"three\", argv2=\"two\")"
   ]
  },
  {
   "cell_type": "code",
   "execution_count": 5,
   "id": "141133c6-bd23-4149-87ec-80560563cba4",
   "metadata": {},
   "outputs": [
    {
     "ename": "TypeError",
     "evalue": "foo3() missing 1 required positional argument: 'argv3'",
     "output_type": "error",
     "traceback": [
      "\u001b[0;31m---------------------------------------------------------------------------\u001b[0m",
      "\u001b[0;31mTypeError\u001b[0m                                 Traceback (most recent call last)",
      "Input \u001b[0;32mIn [5]\u001b[0m, in \u001b[0;36m<cell line: 1>\u001b[0;34m()\u001b[0m\n\u001b[0;32m----> 1\u001b[0m \u001b[43mfoo3\u001b[49m\u001b[43m(\u001b[49m\u001b[38;5;124;43m\"\u001b[39;49m\u001b[38;5;124;43mone\u001b[39;49m\u001b[38;5;124;43m\"\u001b[39;49m\u001b[43m,\u001b[49m\u001b[43m \u001b[49m\u001b[38;5;124;43m\"\u001b[39;49m\u001b[38;5;124;43mtwo\u001b[39;49m\u001b[38;5;124;43m\"\u001b[39;49m\u001b[43m)\u001b[49m\n",
      "\u001b[0;31mTypeError\u001b[0m: foo3() missing 1 required positional argument: 'argv3'"
     ]
    }
   ],
   "source": [
    "foo3(\"one\", \"two\")"
   ]
  },
  {
   "cell_type": "code",
   "execution_count": 6,
   "id": "b8795955-ce54-490a-aa86-e5d97105d4da",
   "metadata": {},
   "outputs": [
    {
     "ename": "TypeError",
     "evalue": "foo3() takes 3 positional arguments but 4 were given",
     "output_type": "error",
     "traceback": [
      "\u001b[0;31m---------------------------------------------------------------------------\u001b[0m",
      "\u001b[0;31mTypeError\u001b[0m                                 Traceback (most recent call last)",
      "Input \u001b[0;32mIn [6]\u001b[0m, in \u001b[0;36m<cell line: 1>\u001b[0;34m()\u001b[0m\n\u001b[0;32m----> 1\u001b[0m \u001b[43mfoo3\u001b[49m\u001b[43m(\u001b[49m\u001b[38;5;124;43m\"\u001b[39;49m\u001b[38;5;124;43mone\u001b[39;49m\u001b[38;5;124;43m\"\u001b[39;49m\u001b[43m,\u001b[49m\u001b[43m \u001b[49m\u001b[38;5;124;43m\"\u001b[39;49m\u001b[38;5;124;43mtwo\u001b[39;49m\u001b[38;5;124;43m\"\u001b[39;49m\u001b[43m,\u001b[49m\u001b[43m \u001b[49m\u001b[38;5;124;43m\"\u001b[39;49m\u001b[38;5;124;43mthree\u001b[39;49m\u001b[38;5;124;43m\"\u001b[39;49m\u001b[43m,\u001b[49m\u001b[43m \u001b[49m\u001b[38;5;124;43m\"\u001b[39;49m\u001b[38;5;124;43mfour\u001b[39;49m\u001b[38;5;124;43m\"\u001b[39;49m\u001b[43m)\u001b[49m\n",
      "\u001b[0;31mTypeError\u001b[0m: foo3() takes 3 positional arguments but 4 were given"
     ]
    }
   ],
   "source": [
    "foo3(\"one\", \"two\", \"three\", \"four\")"
   ]
  },
  {
   "cell_type": "code",
   "execution_count": 10,
   "id": "f879c6cb-5717-4852-b3a7-94f1a23baf6a",
   "metadata": {},
   "outputs": [
    {
     "name": "stdout",
     "output_type": "stream",
     "text": [
      "100\n",
      "200\n",
      "300\n"
     ]
    }
   ],
   "source": [
    "foo3()"
   ]
  },
  {
   "cell_type": "code",
   "execution_count": 11,
   "id": "258cebb6-d8cf-435d-93a1-73c4a1a5972e",
   "metadata": {},
   "outputs": [
    {
     "name": "stdout",
     "output_type": "stream",
     "text": [
      "400\n",
      "500\n",
      "600\n"
     ]
    }
   ],
   "source": [
    "foo3(400, 500, 600)"
   ]
  },
  {
   "cell_type": "code",
   "execution_count": 12,
   "id": "b5f88263-3d0a-455b-a5fb-d8290c4cc07e",
   "metadata": {},
   "outputs": [
    {
     "name": "stdout",
     "output_type": "stream",
     "text": [
      "400\n",
      "200\n",
      "500\n"
     ]
    }
   ],
   "source": [
    "foo3(400, argv3 = 500)"
   ]
  },
  {
   "cell_type": "code",
   "execution_count": null,
   "id": "3a214011-21dd-4712-910c-2144aeca6e6e",
   "metadata": {},
   "outputs": [],
   "source": []
  }
 ],
 "metadata": {
  "kernelspec": {
   "display_name": "Python 3 (ipykernel)",
   "language": "python",
   "name": "python3"
  },
  "language_info": {
   "codemirror_mode": {
    "name": "ipython",
    "version": 3
   },
   "file_extension": ".py",
   "mimetype": "text/x-python",
   "name": "python",
   "nbconvert_exporter": "python",
   "pygments_lexer": "ipython3",
   "version": "3.10.7"
  },
  "vscode": {
   "interpreter": {
    "hash": "aee8b7b246df8f9039afb4144a1f6fd8d2ca17a180786b69acc140d282b71a49"
   }
  }
 },
 "nbformat": 4,
 "nbformat_minor": 5
}
