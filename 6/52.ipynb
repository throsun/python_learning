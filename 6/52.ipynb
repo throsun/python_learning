{
 "cells": [
  {
   "cell_type": "code",
   "execution_count": 10,
   "id": "9d7231c7-2f89-41b9-9c0a-d02427426f16",
   "metadata": {},
   "outputs": [],
   "source": [
    "list1 = [\"x\", \"y\", \"z\"]\n",
    "tuple1 = (list1, \"b\", \"c\")"
   ]
  },
  {
   "cell_type": "code",
   "execution_count": 11,
   "id": "43b886ed-0761-430c-87d1-9a38021f73bc",
   "metadata": {},
   "outputs": [],
   "source": [
    "tuple1[0][0] = \"abc\""
   ]
  },
  {
   "cell_type": "code",
   "execution_count": 12,
   "id": "9062a4eb-8b41-43f8-8fc8-508457d27c4f",
   "metadata": {},
   "outputs": [
    {
     "data": {
      "text/plain": [
       "(['abc', 'y', 'z'], 'b', 'c')"
      ]
     },
     "execution_count": 12,
     "metadata": {},
     "output_type": "execute_result"
    }
   ],
   "source": [
    "tuple1"
   ]
  },
  {
   "cell_type": "code",
   "execution_count": 13,
   "id": "13c8b248-cee7-473a-8c5c-9a84fd3862c3",
   "metadata": {},
   "outputs": [
    {
     "data": {
      "text/plain": [
       "['abc', 'y', 'z']"
      ]
     },
     "execution_count": 13,
     "metadata": {},
     "output_type": "execute_result"
    }
   ],
   "source": [
    "list1"
   ]
  },
  {
   "cell_type": "code",
   "execution_count": null,
   "id": "f3249840-2254-447a-a33f-3ca8189b4479",
   "metadata": {},
   "outputs": [],
   "source": []
  }
 ],
 "metadata": {
  "kernelspec": {
   "display_name": "Python 3 (ipykernel)",
   "language": "python",
   "name": "python3"
  },
  "language_info": {
   "codemirror_mode": {
    "name": "ipython",
    "version": 3
   },
   "file_extension": ".py",
   "mimetype": "text/x-python",
   "name": "python",
   "nbconvert_exporter": "python",
   "pygments_lexer": "ipython3",
   "version": "3.9.12"
  }
 },
 "nbformat": 4,
 "nbformat_minor": 5
}
