{
 "cells": [
  {
   "cell_type": "code",
   "execution_count": 15,
   "id": "9a8c2f88-10db-4db6-b01c-4ceb51288f3a",
   "metadata": {
    "jupyter": {
     "source_hidden": true
    },
    "tags": []
   },
   "outputs": [],
   "source": [
    "def foo():\n",
    "    return \"foo display\""
   ]
  },
  {
   "cell_type": "code",
   "execution_count": 22,
   "id": "e28aa8a5-f099-4187-83a0-e475be612811",
   "metadata": {
    "collapsed": true,
    "jupyter": {
     "outputs_hidden": true,
     "source_hidden": true
    },
    "tags": []
   },
   "outputs": [
    {
     "data": {
      "text/plain": [
       "function"
      ]
     },
     "execution_count": 22,
     "metadata": {},
     "output_type": "execute_result"
    }
   ],
   "source": [
    "a = foo\n",
    "\n",
    "type(a)"
   ]
  },
  {
   "cell_type": "code",
   "execution_count": 23,
   "id": "659a27c5-886a-400a-82d7-cadb9c6fdff3",
   "metadata": {
    "tags": []
   },
   "outputs": [],
   "source": [
    "def add(number):\n",
    "    return ( number + number )"
   ]
  },
  {
   "cell_type": "code",
   "execution_count": 26,
   "id": "fbcbbdee-1410-4a0b-b43b-30e7985f55f8",
   "metadata": {
    "tags": []
   },
   "outputs": [
    {
     "name": "stdout",
     "output_type": "stream",
     "text": [
      "0\n",
      "2\n",
      "4\n",
      "6\n",
      "8\n"
     ]
    }
   ],
   "source": [
    "# range(5)  0 1 2 3 4\n",
    "# map(add, range(5) 0 2 4 6 7\n",
    "\n",
    "for i in map(add, range(5) ):\n",
    "    print( i )"
   ]
  },
  {
   "cell_type": "code",
   "execution_count": 27,
   "id": "e6db45fe-9970-486d-81dd-73a86ccdf485",
   "metadata": {
    "tags": []
   },
   "outputs": [
    {
     "name": "stdout",
     "output_type": "stream",
     "text": [
      "[0, 2, 4, 6, 8]\n"
     ]
    }
   ],
   "source": [
    "print(  list( map( lambda x: x+x, range(5) ) )   )"
   ]
  },
  {
   "cell_type": "code",
   "execution_count": 29,
   "id": "858ad5d6-6afb-4636-9cb0-d3d000601d2e",
   "metadata": {
    "tags": []
   },
   "outputs": [
    {
     "name": "stdout",
     "output_type": "stream",
     "text": [
      "1\n",
      "2\n"
     ]
    }
   ],
   "source": [
    "# lambda x:x>0\n",
    "\n",
    "# filter(lambda x:x>0, (-2, -1, 1, 2))\n",
    "for i in filter(lambda x:x>0, (-2, -1, 1, 2)):\n",
    "    print(i)"
   ]
  },
  {
   "cell_type": "code",
   "execution_count": 30,
   "id": "37aeea05-2a01-41fb-883b-ecf25a729eb0",
   "metadata": {
    "tags": []
   },
   "outputs": [
    {
     "data": {
      "text/plain": [
       "15"
      ]
     },
     "execution_count": 30,
     "metadata": {},
     "output_type": "execute_result"
    }
   ],
   "source": [
    "from functools import reduce\n",
    "reduce(lambda x, y: x+y, [1, 2, 3, 4, 5])"
   ]
  },
  {
   "cell_type": "code",
   "execution_count": 31,
   "id": "440d5075-b200-4ac1-93ee-9aca92321b87",
   "metadata": {
    "tags": []
   },
   "outputs": [
    {
     "data": {
      "text/plain": [
       "15"
      ]
     },
     "execution_count": 31,
     "metadata": {},
     "output_type": "execute_result"
    }
   ],
   "source": [
    "# 0 1 2 3 4 5 6 7 8 9 10 11 12 13 14 15 16\n",
    "# 0 1 2 3 4 5 6 7 8 9  A  B C D   E   F 10 \n",
    "\n",
    "\n",
    "int(\"0f\", base=16)"
   ]
  },
  {
   "cell_type": "code",
   "execution_count": 32,
   "id": "139b13f5-d296-49d0-8f82-229a0f6abe26",
   "metadata": {
    "tags": []
   },
   "outputs": [
    {
     "data": {
      "text/plain": [
       "15"
      ]
     },
     "execution_count": 32,
     "metadata": {},
     "output_type": "execute_result"
    }
   ],
   "source": [
    "from functools import partial\n",
    "int_16 = partial(int, base=16)\n",
    "\n",
    "int_16(\"0f\")\n",
    "\n"
   ]
  },
  {
   "cell_type": "code",
   "execution_count": null,
   "id": "6010ec63-585f-4075-960b-63d9e89c2990",
   "metadata": {},
   "outputs": [],
   "source": []
  }
 ],
 "metadata": {
  "kernelspec": {
   "display_name": "Python 3 (ipykernel)",
   "language": "python",
   "name": "python3"
  },
  "language_info": {
   "codemirror_mode": {
    "name": "ipython",
    "version": 3
   },
   "file_extension": ".py",
   "mimetype": "text/x-python",
   "name": "python",
   "nbconvert_exporter": "python",
   "pygments_lexer": "ipython3",
   "version": "3.9.12"
  }
 },
 "nbformat": 4,
 "nbformat_minor": 5
}
