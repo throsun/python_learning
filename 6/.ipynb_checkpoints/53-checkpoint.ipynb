{
 "cells": [
  {
   "cell_type": "code",
   "execution_count": 15,
   "id": "9a8c2f88-10db-4db6-b01c-4ceb51288f3a",
   "metadata": {},
   "outputs": [],
   "source": [
    "def foo():\n",
    "    return \"foo display\""
   ]
  },
  {
   "cell_type": "code",
   "execution_count": 17,
   "id": "e28aa8a5-f099-4187-83a0-e475be612811",
   "metadata": {},
   "outputs": [
    {
     "name": "stdout",
     "output_type": "stream",
     "text": [
      "foo display\n"
     ]
    }
   ],
   "source": [
    "a = foo"
   ]
  },
  {
   "cell_type": "code",
   "execution_count": null,
   "id": "659a27c5-886a-400a-82d7-cadb9c6fdff3",
   "metadata": {
    "jupyter": {
     "source_hidden": true
    },
    "tags": []
   },
   "outputs": [],
   "source": [
    "def add(number):\n",
    "    return ( number + number )"
   ]
  },
  {
   "cell_type": "code",
   "execution_count": null,
   "id": "fbcbbdee-1410-4a0b-b43b-30e7985f55f8",
   "metadata": {
    "jupyter": {
     "source_hidden": true
    },
    "tags": []
   },
   "outputs": [],
   "source": [
    "for i in map(add, range(5) ):\n",
    "    print( i )"
   ]
  },
  {
   "cell_type": "code",
   "execution_count": null,
   "id": "e6db45fe-9970-486d-81dd-73a86ccdf485",
   "metadata": {
    "jupyter": {
     "source_hidden": true
    },
    "tags": []
   },
   "outputs": [],
   "source": [
    "print(  list( map( lambda x: x+x, range(5) ) )   )"
   ]
  },
  {
   "cell_type": "code",
   "execution_count": null,
   "id": "858ad5d6-6afb-4636-9cb0-d3d000601d2e",
   "metadata": {
    "jupyter": {
     "source_hidden": true
    },
    "tags": []
   },
   "outputs": [],
   "source": [
    "for i in filter(lambda x:x>0, (-2, -1, 1, 2)):\n",
    "    print(i)"
   ]
  },
  {
   "cell_type": "code",
   "execution_count": null,
   "id": "37aeea05-2a01-41fb-883b-ecf25a729eb0",
   "metadata": {
    "jupyter": {
     "source_hidden": true
    },
    "tags": []
   },
   "outputs": [],
   "source": [
    "from functools import reduce\n",
    "reduce(lambda x, y: x+y, [1, 2, 3, 4, 5])"
   ]
  },
  {
   "cell_type": "code",
   "execution_count": null,
   "id": "440d5075-b200-4ac1-93ee-9aca92321b87",
   "metadata": {
    "jupyter": {
     "source_hidden": true
    },
    "tags": []
   },
   "outputs": [],
   "source": [
    "int(\"0f\", base=16)"
   ]
  },
  {
   "cell_type": "code",
   "execution_count": null,
   "id": "139b13f5-d296-49d0-8f82-229a0f6abe26",
   "metadata": {
    "jupyter": {
     "source_hidden": true
    },
    "tags": []
   },
   "outputs": [],
   "source": [
    "from functools import partial\n",
    "int_16 = partial(int, base=16)\n",
    "\n",
    "int_16(\"0f\")"
   ]
  }
 ],
 "metadata": {
  "kernelspec": {
   "display_name": "Python 3 (ipykernel)",
   "language": "python",
   "name": "python3"
  },
  "language_info": {
   "codemirror_mode": {
    "name": "ipython",
    "version": 3
   },
   "file_extension": ".py",
   "mimetype": "text/x-python",
   "name": "python",
   "nbconvert_exporter": "python",
   "pygments_lexer": "ipython3",
   "version": "3.9.12"
  }
 },
 "nbformat": 4,
 "nbformat_minor": 5
}
