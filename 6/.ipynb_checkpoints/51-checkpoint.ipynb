{
 "cells": [
  {
   "cell_type": "code",
   "execution_count": 48,
   "metadata": {
    "collapsed": true,
    "jupyter": {
     "outputs_hidden": true
    },
    "tags": []
   },
   "outputs": [],
   "source": [
    "# 商品\n",
    "products = [[1000, \"iphone\", \"phone\", 12000],\n",
    "           [1001, \"ipad\", \"pad\", 15000],\n",
    "           [1002, \"macbook\", \"laptop\", 20000]\n",
    "        ]\n",
    "# 购物车 \"product_id\":\"product_number\"\n",
    "cart = {1000:5, 1001:2}\n"
   ]
  },
  {
   "cell_type": "code",
   "execution_count": 49,
   "metadata": {
    "collapsed": true,
    "jupyter": {
     "outputs_hidden": true
    },
    "tags": []
   },
   "outputs": [],
   "source": [
    "def idtoname(product_id):\n",
    "    \"\"\" product_id to product_name \"\"\"\n",
    "    for product in products:\n",
    "        if product[0] == product_id:\n",
    "            return product[1]\n",
    "            break\n",
    "\n",
    "def idtoprice(product_id):\n",
    "    \"\"\" product_id to product_price \"\"\"\n",
    "    for product in products:\n",
    "        if product[0] == product_id:\n",
    "            return product[3]\n",
    "            break\n",
    "        \n"
   ]
  },
  {
   "cell_type": "code",
   "execution_count": 50,
   "metadata": {
    "collapsed": true,
    "jupyter": {
     "outputs_hidden": true
    }
   },
   "outputs": [],
   "source": []
  },
  {
   "cell_type": "code",
   "execution_count": 51,
   "metadata": {
    "collapsed": true,
    "jupyter": {
     "outputs_hidden": true
    }
   },
   "outputs": [
    {
     "name": "stdout",
     "output_type": "stream",
     "text": [
      "购买商品 iphone 的数量为 5\n",
      "购买商品 ipad 的数量为 2\n"
     ]
    }
   ],
   "source": [
    "def showCart():\n",
    "    \"\"\" 展示购物车里的商品 \"\"\"\n",
    "    for product in cart:\n",
    "        print(f\"购买商品 { idtoname(product) } 的数量为 {cart[product]}\")\n",
    "\n",
    "showCart()"
   ]
  },
  {
   "cell_type": "code",
   "execution_count": 52,
   "metadata": {
    "collapsed": true,
    "jupyter": {
     "outputs_hidden": true
    }
   },
   "outputs": [
    {
     "name": "stdout",
     "output_type": "stream",
     "text": [
      "购买商品 iphone 的数量为 5\n",
      "购买商品 ipad 的数量为 2\n",
      "总费用为: 90000\n"
     ]
    }
   ],
   "source": [
    "def showCart():\n",
    "    \"\"\" 展示购物车里的商品v2 \"\"\"\n",
    "    totalMoney = 0\n",
    "    for product in cart:\n",
    "        print(f\"购买商品 { idtoname(product) } 的数量为 {cart[product]}\")\n",
    "        totalMoney += idtoprice(product)*cart[product]\n",
    "\n",
    "    print(f\"总费用为: {totalMoney}\")\n",
    "\n",
    "showCart()"
   ]
  },
  {
   "cell_type": "code",
   "execution_count": 53,
   "metadata": {
    "collapsed": true,
    "jupyter": {
     "outputs_hidden": true
    }
   },
   "outputs": [
    {
     "name": "stdout",
     "output_type": "stream",
     "text": [
      "购买商品 iphone 的数量为 5\n",
      "购买商品 ipad 的数量为 2\n",
      "总费用为: 90000\n"
     ]
    }
   ],
   "source": [
    "def addProduct(product_id, product_number):\n",
    "    if product_id in cart.keys():\n",
    "        cart[product_id] += product_number\n",
    "    else:\n",
    "        cart[product_id] = product_number\n",
    "\n",
    "# addProduct(1002, 10)\n",
    "\n",
    "\n",
    "def delProduct(product_id):\n",
    "    if product_id in cart.keys():\n",
    "        cart[product_id] -= 1\n",
    "        if cart[product_id] == 0:\n",
    "            cart.pop(product_id)\n",
    "\n",
    "# delProduct(1001)\n",
    "\n",
    "\n",
    "def cleanCart():\n",
    "    cart.clear()\n",
    "\n",
    "# cleanCart()\n",
    "showCart()"
   ]
  }
 ],
 "metadata": {
  "kernelspec": {
   "display_name": "Python 3 (ipykernel)",
   "language": "python",
   "name": "python3"
  },
  "language_info": {
   "codemirror_mode": {
    "name": "ipython",
    "version": 3
   },
   "file_extension": ".py",
   "mimetype": "text/x-python",
   "name": "python",
   "nbconvert_exporter": "python",
   "pygments_lexer": "ipython3",
   "version": "3.9.12"
  },
  "vscode": {
   "interpreter": {
    "hash": "aee8b7b246df8f9039afb4144a1f6fd8d2ca17a180786b69acc140d282b71a49"
   }
  }
 },
 "nbformat": 4,
 "nbformat_minor": 4
}
