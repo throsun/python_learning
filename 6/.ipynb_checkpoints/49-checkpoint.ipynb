{
 "cells": [
  {
   "cell_type": "code",
   "execution_count": 2,
   "id": "ae9de8fe-7086-41d8-9a8b-d0d1dd979325",
   "metadata": {
    "tags": []
   },
   "outputs": [],
   "source": [
    "def address_book(name, *telphone, alias_name=None, **custom):\n",
    "    print(f\"name: {name}, tel: {telphone}, aname: {alias_name}, custom:{custom}\")\n"
   ]
  },
  {
   "cell_type": "code",
   "execution_count": 3,
   "id": "987906b3-a245-4315-afc0-5be3b4f57b11",
   "metadata": {},
   "outputs": [
    {
     "name": "stdout",
     "output_type": "stream",
     "text": [
      "name: wilson, tel: (), aname: None, custom:{}\n"
     ]
    }
   ],
   "source": [
    "address_book(\"wilson\")"
   ]
  },
  {
   "cell_type": "code",
   "execution_count": 4,
   "id": "bf34da96-89cc-47ff-a57c-1f5bd509470e",
   "metadata": {},
   "outputs": [
    {
     "name": "stdout",
     "output_type": "stream",
     "text": [
      "name: wilson, tel: (1234, 4567, 5678), aname: None, custom:{}\n"
     ]
    }
   ],
   "source": [
    "address_book(\"wilson\",1234,4567,5678)"
   ]
  },
  {
   "cell_type": "code",
   "execution_count": 5,
   "id": "80d4ae7c-26dd-4755-aa3b-b07e3fe361b8",
   "metadata": {},
   "outputs": [
    {
     "name": "stdout",
     "output_type": "stream",
     "text": [
      "name: wilson, tel: (1234, 4567, 5678), aname: None, custom:{'home': 'Guangdong'}\n"
     ]
    }
   ],
   "source": [
    "address_book(\"wilson\",1234,4567,5678,home=\"Guangdong\")"
   ]
  },
  {
   "cell_type": "code",
   "execution_count": 7,
   "id": "550ff620-018e-47f3-b057-c382226c2aa0",
   "metadata": {},
   "outputs": [
    {
     "name": "stdout",
     "output_type": "stream",
     "text": [
      "name: wilson, tel: (1234, 4567, 5678), aname: w, custom:{'aaa': 'bbb', 'home': 'Guangdong'}\n"
     ]
    }
   ],
   "source": [
    "address_book(\"wilson\",1234,4567,5678,alias_name='w',aaa=\"bbb\", home=\"Guangdong\")"
   ]
  },
  {
   "cell_type": "code",
   "execution_count": 8,
   "id": "fc9beedd-3e50-4773-806f-3d78a9fb0d11",
   "metadata": {},
   "outputs": [],
   "source": [
    "def foo():\n",
    "    \"\"\" 演示 \"\"\"\n",
    "    print(\"test\")"
   ]
  },
  {
   "cell_type": "code",
   "execution_count": 9,
   "id": "7124089b-e3db-45be-9341-c5dc7458146b",
   "metadata": {},
   "outputs": [
    {
     "name": "stdout",
     "output_type": "stream",
     "text": [
      "test\n"
     ]
    }
   ],
   "source": [
    "foo()"
   ]
  },
  {
   "cell_type": "code",
   "execution_count": 10,
   "id": "053732c8-eba0-48da-945e-b883ba151aad",
   "metadata": {},
   "outputs": [
    {
     "data": {
      "text/plain": [
       "' 演示 '"
      ]
     },
     "execution_count": 10,
     "metadata": {},
     "output_type": "execute_result"
    }
   ],
   "source": [
    "foo.__doc__"
   ]
  },
  {
   "cell_type": "code",
   "execution_count": 11,
   "id": "0bb466e7-3749-476a-99eb-fbe10d39e8cb",
   "metadata": {},
   "outputs": [
    {
     "data": {
      "text/plain": [
       "['__annotations__',\n",
       " '__call__',\n",
       " '__class__',\n",
       " '__closure__',\n",
       " '__code__',\n",
       " '__defaults__',\n",
       " '__delattr__',\n",
       " '__dict__',\n",
       " '__dir__',\n",
       " '__doc__',\n",
       " '__eq__',\n",
       " '__format__',\n",
       " '__ge__',\n",
       " '__get__',\n",
       " '__getattribute__',\n",
       " '__globals__',\n",
       " '__gt__',\n",
       " '__hash__',\n",
       " '__init__',\n",
       " '__init_subclass__',\n",
       " '__kwdefaults__',\n",
       " '__le__',\n",
       " '__lt__',\n",
       " '__module__',\n",
       " '__name__',\n",
       " '__ne__',\n",
       " '__new__',\n",
       " '__qualname__',\n",
       " '__reduce__',\n",
       " '__reduce_ex__',\n",
       " '__repr__',\n",
       " '__setattr__',\n",
       " '__sizeof__',\n",
       " '__str__',\n",
       " '__subclasshook__']"
      ]
     },
     "execution_count": 11,
     "metadata": {},
     "output_type": "execute_result"
    }
   ],
   "source": [
    "dir(foo)"
   ]
  },
  {
   "cell_type": "code",
   "execution_count": 12,
   "id": "520350fd-eb42-45fc-bf62-5706f2e9e054",
   "metadata": {},
   "outputs": [
    {
     "data": {
      "text/plain": [
       "<function function.__dir__()>"
      ]
     },
     "execution_count": 12,
     "metadata": {},
     "output_type": "execute_result"
    }
   ],
   "source": [
    "foo.__dir__"
   ]
  },
  {
   "cell_type": "code",
   "execution_count": 13,
   "id": "30415b10-d05f-464b-9413-4de4f5fd5a5a",
   "metadata": {},
   "outputs": [
    {
     "data": {
      "text/plain": [
       "['__add__',\n",
       " '__class__',\n",
       " '__class_getitem__',\n",
       " '__contains__',\n",
       " '__delattr__',\n",
       " '__delitem__',\n",
       " '__dir__',\n",
       " '__doc__',\n",
       " '__eq__',\n",
       " '__format__',\n",
       " '__ge__',\n",
       " '__getattribute__',\n",
       " '__getitem__',\n",
       " '__gt__',\n",
       " '__hash__',\n",
       " '__iadd__',\n",
       " '__imul__',\n",
       " '__init__',\n",
       " '__init_subclass__',\n",
       " '__iter__',\n",
       " '__le__',\n",
       " '__len__',\n",
       " '__lt__',\n",
       " '__mul__',\n",
       " '__ne__',\n",
       " '__new__',\n",
       " '__reduce__',\n",
       " '__reduce_ex__',\n",
       " '__repr__',\n",
       " '__reversed__',\n",
       " '__rmul__',\n",
       " '__setattr__',\n",
       " '__setitem__',\n",
       " '__sizeof__',\n",
       " '__str__',\n",
       " '__subclasshook__',\n",
       " 'append',\n",
       " 'clear',\n",
       " 'copy',\n",
       " 'count',\n",
       " 'extend',\n",
       " 'index',\n",
       " 'insert',\n",
       " 'pop',\n",
       " 'remove',\n",
       " 'reverse',\n",
       " 'sort']"
      ]
     },
     "execution_count": 13,
     "metadata": {},
     "output_type": "execute_result"
    }
   ],
   "source": [
    "list1 = []\n",
    "dir(list1)"
   ]
  },
  {
   "cell_type": "code",
   "execution_count": null,
   "id": "50c12aae-39f9-4bef-9a14-e2f0a0646765",
   "metadata": {},
   "outputs": [],
   "source": []
  }
 ],
 "metadata": {
  "kernelspec": {
   "display_name": "Python 3 (ipykernel)",
   "language": "python",
   "name": "python3"
  },
  "language_info": {
   "codemirror_mode": {
    "name": "ipython",
    "version": 3
   },
   "file_extension": ".py",
   "mimetype": "text/x-python",
   "name": "python",
   "nbconvert_exporter": "python",
   "pygments_lexer": "ipython3",
   "version": "3.9.12"
  }
 },
 "nbformat": 4,
 "nbformat_minor": 5
}
