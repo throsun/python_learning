{
 "cells": [
  {
   "cell_type": "code",
   "execution_count": 14,
   "metadata": {},
   "outputs": [
    {
     "name": "stdout",
     "output_type": "stream",
     "text": [
      "[PosixPath('3.xlsx'), PosixPath('sample.xlsx'), PosixPath('2.xlsx'), PosixPath('1.xlsx')]\n"
     ]
    }
   ],
   "source": [
    "from pathlib import PurePath, Path\n",
    "p = Path('.')\n",
    "\n",
    "files = [x for x in p.iterdir() if PurePath(x).match('*.xlsx')]\n",
    "print(files)"
   ]
  },
  {
   "cell_type": "code",
   "execution_count": 17,
   "metadata": {},
   "outputs": [
    {
     "name": "stdout",
     "output_type": "stream",
     "text": [
      "42\n",
      "None\n",
      "None\n",
      "2022-10-29 15:38:20.202000\n",
      "2\n",
      "3\n",
      "42\n",
      "None\n",
      "None\n",
      "2022-10-29 15:38:20.202000\n",
      "2\n",
      "3\n",
      "42\n",
      "None\n",
      "None\n",
      "2022-10-29 15:38:20.202000\n",
      "2\n",
      "3\n",
      "42\n",
      "None\n",
      "None\n",
      "2022-10-29 15:38:20.202000\n",
      "2\n",
      "3\n"
     ]
    }
   ],
   "source": [
    "from openpyxl import Workbook,load_workbook\n",
    "for file in files:\n",
    "    wb = load_workbook(file)\n",
    "    ws = wb.active\n",
    "    for row in ws.iter_rows():\n",
    "        for cell in row:\n",
    "            print(cell.value) \n",
    "\n",
    "\n"
   ]
  },
  {
   "cell_type": "code",
   "execution_count": 15,
   "metadata": {},
   "outputs": [
    {
     "name": "stdout",
     "output_type": "stream",
     "text": [
      "['Sheet']\n"
     ]
    }
   ],
   "source": [
    "# 获取全部工作簿\n",
    "print(wb.sheetnames)"
   ]
  },
  {
   "cell_type": "code",
   "execution_count": 16,
   "metadata": {},
   "outputs": [
    {
     "name": "stderr",
     "output_type": "stream",
     "text": [
      "/var/folders/05/z7hs5gbj59q4wmg_z48vrbxm0000gn/T/ipykernel_34386/2270779585.py:2: DeprecationWarning: Call to deprecated function get_sheet_by_name (Use wb[sheetname]).\n",
      "  ws = wb.get_sheet_by_name(\"Sheet\")\n"
     ]
    }
   ],
   "source": [
    "# 获取单个工作簿\n",
    "ws = wb.get_sheet_by_name(\"Sheet\")"
   ]
  },
  {
   "cell_type": "code",
   "execution_count": null,
   "metadata": {},
   "outputs": [],
   "source": [
    "wb = load_workbook(file)\n",
    "    ws = wb.active\n",
    "    for row in ws.iter_rows():\n",
    "        for cell in row:\n",
    "            print(cell.value) \n"
   ]
  }
 ],
 "metadata": {
  "kernelspec": {
   "display_name": "Python 3.11.0 64-bit",
   "language": "python",
   "name": "python3"
  },
  "language_info": {
   "codemirror_mode": {
    "name": "ipython",
    "version": 3
   },
   "file_extension": ".py",
   "mimetype": "text/x-python",
   "name": "python",
   "nbconvert_exporter": "python",
   "pygments_lexer": "ipython3",
   "version": "3.11.0"
  },
  "orig_nbformat": 4,
  "vscode": {
   "interpreter": {
    "hash": "aee8b7b246df8f9039afb4144a1f6fd8d2ca17a180786b69acc140d282b71a49"
   }
  }
 },
 "nbformat": 4,
 "nbformat_minor": 2
}
