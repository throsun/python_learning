{
 "cells": [
  {
   "cell_type": "code",
   "execution_count": null,
   "metadata": {},
   "outputs": [],
   "source": [
    "!pip3 install requests"
   ]
  },
  {
   "cell_type": "code",
   "execution_count": null,
   "metadata": {},
   "outputs": [],
   "source": [
    "import requests\n",
    "hds = {\"User-Agent\": \"Mozilla/5.0 (Windows NT 10.0; Win64; x64) AppleWebKit/537.36 (KHTML, like Gecko) Chrome/54.0.2840.99 Safari/537.36\"}\n",
    "r = requests.get('https://time.geekbang.org/resource?plus=0&m=0&d=3&c=12&sort=2&order=desc', headers = hds)\n",
    "\n",
    "r.status_code #200\n",
    "r.headers['content-type'] #'application/json; charset=utf8'\n",
    "r.encoding # ’utf-8’\n",
    "r.text #’{\"authenticated\": true, …'"
   ]
  },
  {
   "cell_type": "code",
   "execution_count": 20,
   "metadata": {},
   "outputs": [
    {
     "name": "stdout",
     "output_type": "stream",
     "text": [
      "尹会生\n",
      "零基础学Python\n",
      "订阅数 77583\n"
     ]
    }
   ],
   "source": [
    "\n",
    "import requests\n",
    "# import json\n",
    "headers = {\"User-Agent\": \"Mozilla/5.0 (Windows NT 10.0; Win64; x64) AppleWebKit/537.36 (KHTML, like Gecko) Chrome/54.0.2840.99 Safari/537.36\",\"Referer\": \"https://time.geekbang.org\"}\n",
    "data = {\"ids\":[100008801],\"with_first_articles\":False}\n",
    "\n",
    "r = requests.post('https://time.geekbang.org/serv/v3/product/infos',headers=headers, json=data)\n",
    "# r.text\n",
    "datas = r.json()\n",
    "\n",
    "name = datas[\"data\"][\"infos\"][0][\"author\"][\"name\"]\n",
    "print(name)\n",
    "\n",
    "title = datas[\"data\"][\"infos\"][0][\"title\"]\n",
    "print(title)\n",
    "\n",
    "count = datas[\"data\"][\"infos\"][0][\"extra\"][\"sub\"][\"count\"]\n",
    "print(f\"订阅数 {count}\")\n"
   ]
  }
 ],
 "metadata": {
  "kernelspec": {
   "display_name": "Python 3.11.0 64-bit",
   "language": "python",
   "name": "python3"
  },
  "language_info": {
   "codemirror_mode": {
    "name": "ipython",
    "version": 3
   },
   "file_extension": ".py",
   "mimetype": "text/x-python",
   "name": "python",
   "nbconvert_exporter": "python",
   "pygments_lexer": "ipython3",
   "version": "3.11.0"
  },
  "orig_nbformat": 4,
  "vscode": {
   "interpreter": {
    "hash": "aee8b7b246df8f9039afb4144a1f6fd8d2ca17a180786b69acc140d282b71a49"
   }
  }
 },
 "nbformat": 4,
 "nbformat_minor": 2
}
