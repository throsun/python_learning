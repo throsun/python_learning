{
 "cells": [
  {
   "cell_type": "code",
   "execution_count": 18,
   "metadata": {},
   "outputs": [
    {
     "name": "stdout",
     "output_type": "stream",
     "text": [
      "https://static001.geekbang.org/resource/image/yy/16/yyfd6ae40a0eb2272b3c640fba2f2b16.jpeg\n",
      "https://static001.geekbang.org/resource/image/ca/d7/ca2422820afb470e2b3e7fb85ea90ed7.jpg\n",
      "https://static001.geekbang.org/resource/image/e0/3d/e0be84fbf50f2285cf35712463ca2e3d.jpg\n",
      "https://static001.geekbang.org/resource/image/60/41/6017e2819ae7fe38d9589c7a2f7b4641.jpg\n",
      "https://static001.geekbang.org/resource/image/e9/79/e94d05a6446d395aa21480d915749679.jpg\n",
      "https://static001.geekbang.org/resource/image/21/da/216b472de3f9027371576e107601c2da.jpg\n",
      "https://static001.geekbang.org/resource/image/b6/79/b6e691c0917159a570ce9332133b3079.jpg\n",
      "https://static001.geekbang.org/resource/image/97/8b/97264405bbe385f997b9e3e98f1bb78b.jpg\n"
     ]
    }
   ],
   "source": [
    "\n",
    "import requests\n",
    "import json\n",
    "headers = {\"User-Agent\": \"Mozilla/5.0 (Windows NT 10.0; Win64; x64) AppleWebKit/537.36 (KHTML, like Gecko) Chrome/54.0.2840.99 Safari/537.36\",\"Referer\": \"https://time.geekbang.org\"}\n",
    "data = {\"ids\":[100085301,100063601,100023001,100026901,100008801,100002201,100061901,100053201],\"with_first_articles\":False}\n",
    "\n",
    "r = requests.post('https://time.geekbang.org/serv/v3/product/infos',headers=headers, json=data)\n",
    "datas = r.json()\n",
    "\n",
    "# count = datas[\"data\"][\"infos\"][0][\"extra\"][\"sub\"][\"count\"]\n",
    "# print(f\"订阅数 {count}\")\n",
    "\n",
    "images = []\n",
    "# 取得头像\n",
    "for d in datas[\"data\"][\"infos\"]:\n",
    "    images.append(d[\"author\"][\"avatar\"])\n",
    "    print(d[\"author\"][\"avatar\"])\n",
    "\n"
   ]
  },
  {
   "cell_type": "code",
   "execution_count": 19,
   "metadata": {},
   "outputs": [],
   "source": [
    "url = \"https://static001.geekbang.org/resource/image/e9/79/e94d05a6446d395aa21480d915749679.jpg\"\n",
    "r = requests.get(url, headers=headers)\n",
    "with open(f'imgs/1.jpg','wb') as f:\n",
    "        f.write(r.content)"
   ]
  },
  {
   "cell_type": "code",
   "execution_count": 20,
   "metadata": {},
   "outputs": [],
   "source": [
    "\n",
    "def download(url):\n",
    "    headers = {\"User-Agent\": \"Mozilla/5.0 (Windows NT 10.0; Win64; x64) AppleWebKit/537.36 (KHTML, like Gecko) Chrome/54.0.2840.99 Safari/537.36\",\"Referer\": \"https://time.geekbang.org\"}\n",
    "    r = requests.get(url, headers=headers)\n",
    "    with open(f'imgs/{url.split(\"/\")[-1]}.jpg','wb') as f:\n",
    "        f.write(r.content) \n",
    "\n",
    "download(url)\n",
    "\n"
   ]
  },
  {
   "cell_type": "code",
   "execution_count": 21,
   "metadata": {},
   "outputs": [
    {
     "name": "stdout",
     "output_type": "stream",
     "text": [
      "Looking in indexes: https://mirrors.aliyun.com/pypi/simple/\n",
      "Requirement already satisfied: threadpool in /Library/Frameworks/Python.framework/Versions/3.11/lib/python3.11/site-packages (1.3.2)\n"
     ]
    }
   ],
   "source": [
    "!pip3 install threadpool"
   ]
  },
  {
   "cell_type": "code",
   "execution_count": 22,
   "metadata": {},
   "outputs": [],
   "source": [
    "from concurrent.futures import ThreadPoolExecutor\n",
    "threadPool = ThreadPoolExecutor(max_workers=4, thread_name_prefix=\"down_\")\n",
    "for i in images:\n",
    "    future = threadPool.submit(download, i)\n",
    "         \n",
    "threadPool.shutdown(wait=True)"
   ]
  }
 ],
 "metadata": {
  "kernelspec": {
   "display_name": "Python 3.11.0 64-bit",
   "language": "python",
   "name": "python3"
  },
  "language_info": {
   "codemirror_mode": {
    "name": "ipython",
    "version": 3
   },
   "file_extension": ".py",
   "mimetype": "text/x-python",
   "name": "python",
   "nbconvert_exporter": "python",
   "pygments_lexer": "ipython3",
   "version": "3.11.0"
  },
  "orig_nbformat": 4,
  "vscode": {
   "interpreter": {
    "hash": "aee8b7b246df8f9039afb4144a1f6fd8d2ca17a180786b69acc140d282b71a49"
   }
  }
 },
 "nbformat": 4,
 "nbformat_minor": 2
}
