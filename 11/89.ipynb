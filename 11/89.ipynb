{
 "cells": [
  {
   "cell_type": "markdown",
   "metadata": {},
   "source": [
    "CREATE TABLE `weather` (\n",
    "    `id` int(11) NOT NULL AUTO_INCREMENT,\n",
    "    `city` varchar(255) COLLATE utf8_bin NOT NULL,\n",
    "    `temp` varchar(255) COLLATE utf8_bin NOT NULL,\n",
    "    PRIMARY KEY (`id`)\n",
    ") ENGINE=InnoDB DEFAULT CHARSET=utf8mb4 COLLATE=utf8mb4_bin\n",
    "AUTO_INCREMENT=1 ;"
   ]
  },
  {
   "cell_type": "code",
   "execution_count": 7,
   "metadata": {},
   "outputs": [],
   "source": [
    "import pymysql.cursors\n",
    "\n",
    "# 连接数据库\n",
    "connection = pymysql.connect(host='localhost',\n",
    "                             user='root',\n",
    "                             password='rootroot',\n",
    "                             database='db',\n",
    "                             cursorclass=pymysql.cursors.DictCursor)\n"
   ]
  },
  {
   "cell_type": "code",
   "execution_count": 8,
   "metadata": {},
   "outputs": [
    {
     "name": "stdout",
     "output_type": "stream",
     "text": [
      "{'city': 'beijing', 'temp': '-10'}\n"
     ]
    }
   ],
   "source": [
    "with connection:\n",
    "    with connection.cursor() as cursor:\n",
    "        # 建立一条纪录\n",
    "        sql = \"INSERT INTO `weather` (`city`, `temp`) VALUES (%s, %s)\"\n",
    "        cursor.execute(sql, ('beijing', '-10'))\n",
    "\n",
    "    # connection 不能自动提交数据，必须手动提交\n",
    "    connection.commit()\n",
    "\n",
    "    with connection.cursor() as cursor:\n",
    "        # 读取纪录\n",
    "        sql = \"SELECT `city`, `temp`  FROM `weather` WHERE `city`=%s\"\n",
    "        cursor.execute(sql, ('beijing'))\n",
    "        result = cursor.fetchone()\n",
    "        print(result)"
   ]
  }
 ],
 "metadata": {
  "kernelspec": {
   "display_name": "Python 3.11.0 64-bit",
   "language": "python",
   "name": "python3"
  },
  "language_info": {
   "codemirror_mode": {
    "name": "ipython",
    "version": 3
   },
   "file_extension": ".py",
   "mimetype": "text/x-python",
   "name": "python",
   "nbconvert_exporter": "python",
   "pygments_lexer": "ipython3",
   "version": "3.11.0"
  },
  "orig_nbformat": 4,
  "vscode": {
   "interpreter": {
    "hash": "aee8b7b246df8f9039afb4144a1f6fd8d2ca17a180786b69acc140d282b71a49"
   }
  }
 },
 "nbformat": 4,
 "nbformat_minor": 2
}
